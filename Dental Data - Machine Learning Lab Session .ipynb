{
 "cells": [
  {
   "cell_type": "code",
   "execution_count": 2,
   "id": "1d40af83",
   "metadata": {},
   "outputs": [],
   "source": [
    "import pandas as pd\n",
    "import numpy as np\n",
    "import seaborn as sns\n",
    "import matplotlib.pyplot as plt\n",
    "import warnings \n",
    "warnings.filterwarnings('ignore')"
   ]
  },
  {
   "cell_type": "code",
   "execution_count": 3,
   "id": "18038546",
   "metadata": {},
   "outputs": [],
   "source": [
    "dt = pd.read_csv('Dentistry Dataset.csv')"
   ]
  },
  {
   "cell_type": "code",
   "execution_count": 4,
   "id": "c3be982f",
   "metadata": {},
   "outputs": [
    {
     "data": {
      "text/html": [
       "<div>\n",
       "<style scoped>\n",
       "    .dataframe tbody tr th:only-of-type {\n",
       "        vertical-align: middle;\n",
       "    }\n",
       "\n",
       "    .dataframe tbody tr th {\n",
       "        vertical-align: top;\n",
       "    }\n",
       "\n",
       "    .dataframe thead th {\n",
       "        text-align: right;\n",
       "    }\n",
       "</style>\n",
       "<table border=\"1\" class=\"dataframe\">\n",
       "  <thead>\n",
       "    <tr style=\"text-align: right;\">\n",
       "      <th></th>\n",
       "      <th>Sl No</th>\n",
       "      <th>Sample ID</th>\n",
       "      <th>Age</th>\n",
       "      <th>Gender</th>\n",
       "      <th>inter canine distance intraoral</th>\n",
       "      <th>intercanine distance casts</th>\n",
       "      <th>right canine width intraoral</th>\n",
       "      <th>right canine width casts</th>\n",
       "      <th>left canine width intraoral</th>\n",
       "      <th>left canine width casts</th>\n",
       "      <th>right canine index intra oral</th>\n",
       "      <th>right canine index casts</th>\n",
       "      <th>left canine index intraoral</th>\n",
       "      <th>left canine index casts</th>\n",
       "    </tr>\n",
       "  </thead>\n",
       "  <tbody>\n",
       "    <tr>\n",
       "      <th>0</th>\n",
       "      <td>1</td>\n",
       "      <td>NaN</td>\n",
       "      <td>24</td>\n",
       "      <td>Female</td>\n",
       "      <td>25.06</td>\n",
       "      <td>25.05</td>\n",
       "      <td>6.08</td>\n",
       "      <td>6.08</td>\n",
       "      <td>6.09</td>\n",
       "      <td>6.10</td>\n",
       "      <td>0.242</td>\n",
       "      <td>0.242</td>\n",
       "      <td>0.242</td>\n",
       "      <td>0.241</td>\n",
       "    </tr>\n",
       "    <tr>\n",
       "      <th>1</th>\n",
       "      <td>2</td>\n",
       "      <td>NaN</td>\n",
       "      <td>22</td>\n",
       "      <td>Female</td>\n",
       "      <td>25.78</td>\n",
       "      <td>25.79</td>\n",
       "      <td>6.13</td>\n",
       "      <td>6.13</td>\n",
       "      <td>6.33</td>\n",
       "      <td>6.33</td>\n",
       "      <td>0.237</td>\n",
       "      <td>0.237</td>\n",
       "      <td>0.247</td>\n",
       "      <td>0.247</td>\n",
       "    </tr>\n",
       "    <tr>\n",
       "      <th>2</th>\n",
       "      <td>3</td>\n",
       "      <td>NaN</td>\n",
       "      <td>23</td>\n",
       "      <td>Female</td>\n",
       "      <td>23.83</td>\n",
       "      <td>23.83</td>\n",
       "      <td>5.91</td>\n",
       "      <td>5.96</td>\n",
       "      <td>6.28</td>\n",
       "      <td>6.28</td>\n",
       "      <td>0.248</td>\n",
       "      <td>0.248</td>\n",
       "      <td>0.264</td>\n",
       "      <td>0.264</td>\n",
       "    </tr>\n",
       "    <tr>\n",
       "      <th>3</th>\n",
       "      <td>4</td>\n",
       "      <td>NaN</td>\n",
       "      <td>20</td>\n",
       "      <td>Female</td>\n",
       "      <td>26.12</td>\n",
       "      <td>26.12</td>\n",
       "      <td>6.08</td>\n",
       "      <td>6.08</td>\n",
       "      <td>6.56</td>\n",
       "      <td>6.56</td>\n",
       "      <td>0.232</td>\n",
       "      <td>0.232</td>\n",
       "      <td>0.250</td>\n",
       "      <td>0.250</td>\n",
       "    </tr>\n",
       "    <tr>\n",
       "      <th>4</th>\n",
       "      <td>5</td>\n",
       "      <td>NaN</td>\n",
       "      <td>20</td>\n",
       "      <td>Female</td>\n",
       "      <td>26.36</td>\n",
       "      <td>26.41</td>\n",
       "      <td>6.09</td>\n",
       "      <td>6.09</td>\n",
       "      <td>6.50</td>\n",
       "      <td>6.50</td>\n",
       "      <td>0.231</td>\n",
       "      <td>0.231</td>\n",
       "      <td>0.246</td>\n",
       "      <td>0.246</td>\n",
       "    </tr>\n",
       "  </tbody>\n",
       "</table>\n",
       "</div>"
      ],
      "text/plain": [
       "   Sl No  Sample ID  Age  Gender  inter canine distance intraoral  \\\n",
       "0      1        NaN   24  Female                            25.06   \n",
       "1      2        NaN   22  Female                            25.78   \n",
       "2      3        NaN   23  Female                            23.83   \n",
       "3      4        NaN   20  Female                            26.12   \n",
       "4      5        NaN   20  Female                            26.36   \n",
       "\n",
       "   intercanine distance casts  right canine width intraoral  \\\n",
       "0                       25.05                          6.08   \n",
       "1                       25.79                          6.13   \n",
       "2                       23.83                          5.91   \n",
       "3                       26.12                          6.08   \n",
       "4                       26.41                          6.09   \n",
       "\n",
       "   right canine width casts  left canine width intraoral  \\\n",
       "0                      6.08                         6.09   \n",
       "1                      6.13                         6.33   \n",
       "2                      5.96                         6.28   \n",
       "3                      6.08                         6.56   \n",
       "4                      6.09                         6.50   \n",
       "\n",
       "   left canine width casts  right canine index intra oral  \\\n",
       "0                     6.10                          0.242   \n",
       "1                     6.33                          0.237   \n",
       "2                     6.28                          0.248   \n",
       "3                     6.56                          0.232   \n",
       "4                     6.50                          0.231   \n",
       "\n",
       "   right canine index casts  left canine index intraoral  \\\n",
       "0                     0.242                        0.242   \n",
       "1                     0.237                        0.247   \n",
       "2                     0.248                        0.264   \n",
       "3                     0.232                        0.250   \n",
       "4                     0.231                        0.246   \n",
       "\n",
       "   left canine index casts  \n",
       "0                    0.241  \n",
       "1                    0.247  \n",
       "2                    0.264  \n",
       "3                    0.250  \n",
       "4                    0.246  "
      ]
     },
     "execution_count": 4,
     "metadata": {},
     "output_type": "execute_result"
    }
   ],
   "source": [
    "dt.head()"
   ]
  },
  {
   "cell_type": "code",
   "execution_count": 5,
   "id": "1369a656",
   "metadata": {},
   "outputs": [
    {
     "data": {
      "text/plain": [
       "(1100, 14)"
      ]
     },
     "execution_count": 5,
     "metadata": {},
     "output_type": "execute_result"
    }
   ],
   "source": [
    "dt.shape"
   ]
  },
  {
   "cell_type": "code",
   "execution_count": 6,
   "id": "bbd2a8dd",
   "metadata": {},
   "outputs": [
    {
     "data": {
      "text/plain": [
       "Sl No                                int64\n",
       "Sample ID                          float64\n",
       "Age                                  int64\n",
       "Gender                              object\n",
       "inter canine distance intraoral    float64\n",
       "intercanine distance casts         float64\n",
       "right canine width intraoral       float64\n",
       "right canine width casts           float64\n",
       "left canine width intraoral        float64\n",
       "left canine width casts            float64\n",
       "right canine index intra oral      float64\n",
       "right canine index casts           float64\n",
       "left canine index intraoral        float64\n",
       "left canine index casts            float64\n",
       "dtype: object"
      ]
     },
     "execution_count": 6,
     "metadata": {},
     "output_type": "execute_result"
    }
   ],
   "source": [
    "dt.dtypes"
   ]
  },
  {
   "cell_type": "code",
   "execution_count": 7,
   "id": "43ed5639",
   "metadata": {},
   "outputs": [
    {
     "name": "stdout",
     "output_type": "stream",
     "text": [
      "<class 'pandas.core.frame.DataFrame'>\n",
      "RangeIndex: 1100 entries, 0 to 1099\n",
      "Data columns (total 14 columns):\n",
      " #   Column                           Non-Null Count  Dtype  \n",
      "---  ------                           --------------  -----  \n",
      " 0   Sl No                            1100 non-null   int64  \n",
      " 1   Sample ID                        0 non-null      float64\n",
      " 2   Age                              1100 non-null   int64  \n",
      " 3   Gender                           1100 non-null   object \n",
      " 4   inter canine distance intraoral  1100 non-null   float64\n",
      " 5   intercanine distance casts       1100 non-null   float64\n",
      " 6   right canine width intraoral     1100 non-null   float64\n",
      " 7   right canine width casts         1100 non-null   float64\n",
      " 8   left canine width intraoral      1100 non-null   float64\n",
      " 9   left canine width casts          1100 non-null   float64\n",
      " 10  right canine index intra oral    1100 non-null   float64\n",
      " 11  right canine index casts         1100 non-null   float64\n",
      " 12  left canine index intraoral      1100 non-null   float64\n",
      " 13  left canine index casts          1100 non-null   float64\n",
      "dtypes: float64(11), int64(2), object(1)\n",
      "memory usage: 120.4+ KB\n"
     ]
    }
   ],
   "source": [
    "dt.info()"
   ]
  },
  {
   "cell_type": "code",
   "execution_count": 8,
   "id": "66fc017e",
   "metadata": {},
   "outputs": [
    {
     "data": {
      "text/plain": [
       "Sl No                                 0\n",
       "Sample ID                          1100\n",
       "Age                                   0\n",
       "Gender                                0\n",
       "inter canine distance intraoral       0\n",
       "intercanine distance casts            0\n",
       "right canine width intraoral          0\n",
       "right canine width casts              0\n",
       "left canine width intraoral           0\n",
       "left canine width casts               0\n",
       "right canine index intra oral         0\n",
       "right canine index casts              0\n",
       "left canine index intraoral           0\n",
       "left canine index casts               0\n",
       "dtype: int64"
      ]
     },
     "execution_count": 8,
     "metadata": {},
     "output_type": "execute_result"
    }
   ],
   "source": [
    "dt.isnull().sum()"
   ]
  },
  {
   "cell_type": "code",
   "execution_count": 9,
   "id": "dd4d0925",
   "metadata": {},
   "outputs": [
    {
     "data": {
      "text/plain": [
       "<bound method NDFrame._add_numeric_operations.<locals>.sum of 0       False\n",
       "1       False\n",
       "2       False\n",
       "3       False\n",
       "4       False\n",
       "        ...  \n",
       "1095    False\n",
       "1096    False\n",
       "1097    False\n",
       "1098    False\n",
       "1099    False\n",
       "Length: 1100, dtype: bool>"
      ]
     },
     "execution_count": 9,
     "metadata": {},
     "output_type": "execute_result"
    }
   ],
   "source": [
    "dt.duplicated().sum"
   ]
  },
  {
   "cell_type": "code",
   "execution_count": 10,
   "id": "151c81a0",
   "metadata": {},
   "outputs": [
    {
     "data": {
      "text/html": [
       "<div>\n",
       "<style scoped>\n",
       "    .dataframe tbody tr th:only-of-type {\n",
       "        vertical-align: middle;\n",
       "    }\n",
       "\n",
       "    .dataframe tbody tr th {\n",
       "        vertical-align: top;\n",
       "    }\n",
       "\n",
       "    .dataframe thead th {\n",
       "        text-align: right;\n",
       "    }\n",
       "</style>\n",
       "<table border=\"1\" class=\"dataframe\">\n",
       "  <thead>\n",
       "    <tr style=\"text-align: right;\">\n",
       "      <th></th>\n",
       "      <th>Sl No</th>\n",
       "      <th>Sample ID</th>\n",
       "      <th>Age</th>\n",
       "      <th>inter canine distance intraoral</th>\n",
       "      <th>intercanine distance casts</th>\n",
       "      <th>right canine width intraoral</th>\n",
       "      <th>right canine width casts</th>\n",
       "      <th>left canine width intraoral</th>\n",
       "      <th>left canine width casts</th>\n",
       "      <th>right canine index intra oral</th>\n",
       "      <th>right canine index casts</th>\n",
       "      <th>left canine index intraoral</th>\n",
       "      <th>left canine index casts</th>\n",
       "    </tr>\n",
       "  </thead>\n",
       "  <tbody>\n",
       "    <tr>\n",
       "      <th>Sl No</th>\n",
       "      <td>1.000000</td>\n",
       "      <td>NaN</td>\n",
       "      <td>0.088024</td>\n",
       "      <td>0.257906</td>\n",
       "      <td>0.121403</td>\n",
       "      <td>0.403237</td>\n",
       "      <td>0.403315</td>\n",
       "      <td>0.430148</td>\n",
       "      <td>0.439467</td>\n",
       "      <td>0.148161</td>\n",
       "      <td>0.201876</td>\n",
       "      <td>0.235405</td>\n",
       "      <td>0.238842</td>\n",
       "    </tr>\n",
       "    <tr>\n",
       "      <th>Sample ID</th>\n",
       "      <td>NaN</td>\n",
       "      <td>NaN</td>\n",
       "      <td>NaN</td>\n",
       "      <td>NaN</td>\n",
       "      <td>NaN</td>\n",
       "      <td>NaN</td>\n",
       "      <td>NaN</td>\n",
       "      <td>NaN</td>\n",
       "      <td>NaN</td>\n",
       "      <td>NaN</td>\n",
       "      <td>NaN</td>\n",
       "      <td>NaN</td>\n",
       "      <td>NaN</td>\n",
       "    </tr>\n",
       "    <tr>\n",
       "      <th>Age</th>\n",
       "      <td>0.088024</td>\n",
       "      <td>NaN</td>\n",
       "      <td>1.000000</td>\n",
       "      <td>0.071300</td>\n",
       "      <td>0.033494</td>\n",
       "      <td>0.243534</td>\n",
       "      <td>0.241017</td>\n",
       "      <td>0.162094</td>\n",
       "      <td>0.167698</td>\n",
       "      <td>0.101415</td>\n",
       "      <td>0.199058</td>\n",
       "      <td>0.112364</td>\n",
       "      <td>0.109734</td>\n",
       "    </tr>\n",
       "    <tr>\n",
       "      <th>inter canine distance intraoral</th>\n",
       "      <td>0.257906</td>\n",
       "      <td>NaN</td>\n",
       "      <td>0.071300</td>\n",
       "      <td>1.000000</td>\n",
       "      <td>0.755648</td>\n",
       "      <td>0.564793</td>\n",
       "      <td>0.566652</td>\n",
       "      <td>0.601423</td>\n",
       "      <td>0.590075</td>\n",
       "      <td>-0.382836</td>\n",
       "      <td>-0.352744</td>\n",
       "      <td>-0.343861</td>\n",
       "      <td>-0.338299</td>\n",
       "    </tr>\n",
       "    <tr>\n",
       "      <th>intercanine distance casts</th>\n",
       "      <td>0.121403</td>\n",
       "      <td>NaN</td>\n",
       "      <td>0.033494</td>\n",
       "      <td>0.755648</td>\n",
       "      <td>1.000000</td>\n",
       "      <td>0.400577</td>\n",
       "      <td>0.402120</td>\n",
       "      <td>0.435529</td>\n",
       "      <td>0.357952</td>\n",
       "      <td>-0.308260</td>\n",
       "      <td>-0.297661</td>\n",
       "      <td>-0.283392</td>\n",
       "      <td>-0.279846</td>\n",
       "    </tr>\n",
       "    <tr>\n",
       "      <th>right canine width intraoral</th>\n",
       "      <td>0.403237</td>\n",
       "      <td>NaN</td>\n",
       "      <td>0.243534</td>\n",
       "      <td>0.564793</td>\n",
       "      <td>0.400577</td>\n",
       "      <td>1.000000</td>\n",
       "      <td>0.999832</td>\n",
       "      <td>0.941932</td>\n",
       "      <td>0.937016</td>\n",
       "      <td>0.434863</td>\n",
       "      <td>0.570471</td>\n",
       "      <td>0.506583</td>\n",
       "      <td>0.510783</td>\n",
       "    </tr>\n",
       "    <tr>\n",
       "      <th>right canine width casts</th>\n",
       "      <td>0.403315</td>\n",
       "      <td>NaN</td>\n",
       "      <td>0.241017</td>\n",
       "      <td>0.566652</td>\n",
       "      <td>0.402120</td>\n",
       "      <td>0.999832</td>\n",
       "      <td>1.000000</td>\n",
       "      <td>0.943088</td>\n",
       "      <td>0.938069</td>\n",
       "      <td>0.432951</td>\n",
       "      <td>0.568764</td>\n",
       "      <td>0.506022</td>\n",
       "      <td>0.510247</td>\n",
       "    </tr>\n",
       "    <tr>\n",
       "      <th>left canine width intraoral</th>\n",
       "      <td>0.430148</td>\n",
       "      <td>NaN</td>\n",
       "      <td>0.162094</td>\n",
       "      <td>0.601423</td>\n",
       "      <td>0.435529</td>\n",
       "      <td>0.941932</td>\n",
       "      <td>0.943088</td>\n",
       "      <td>1.000000</td>\n",
       "      <td>0.994120</td>\n",
       "      <td>0.341201</td>\n",
       "      <td>0.473677</td>\n",
       "      <td>0.540797</td>\n",
       "      <td>0.545525</td>\n",
       "    </tr>\n",
       "    <tr>\n",
       "      <th>left canine width casts</th>\n",
       "      <td>0.439467</td>\n",
       "      <td>NaN</td>\n",
       "      <td>0.167698</td>\n",
       "      <td>0.590075</td>\n",
       "      <td>0.357952</td>\n",
       "      <td>0.937016</td>\n",
       "      <td>0.938069</td>\n",
       "      <td>0.994120</td>\n",
       "      <td>1.000000</td>\n",
       "      <td>0.346256</td>\n",
       "      <td>0.479567</td>\n",
       "      <td>0.546163</td>\n",
       "      <td>0.551036</td>\n",
       "    </tr>\n",
       "    <tr>\n",
       "      <th>right canine index intra oral</th>\n",
       "      <td>0.148161</td>\n",
       "      <td>NaN</td>\n",
       "      <td>0.101415</td>\n",
       "      <td>-0.382836</td>\n",
       "      <td>-0.308260</td>\n",
       "      <td>0.434863</td>\n",
       "      <td>0.432951</td>\n",
       "      <td>0.341201</td>\n",
       "      <td>0.346256</td>\n",
       "      <td>1.000000</td>\n",
       "      <td>0.876839</td>\n",
       "      <td>0.799557</td>\n",
       "      <td>0.798836</td>\n",
       "    </tr>\n",
       "    <tr>\n",
       "      <th>right canine index casts</th>\n",
       "      <td>0.201876</td>\n",
       "      <td>NaN</td>\n",
       "      <td>0.199058</td>\n",
       "      <td>-0.352744</td>\n",
       "      <td>-0.297661</td>\n",
       "      <td>0.570471</td>\n",
       "      <td>0.568764</td>\n",
       "      <td>0.473677</td>\n",
       "      <td>0.479567</td>\n",
       "      <td>0.876839</td>\n",
       "      <td>1.000000</td>\n",
       "      <td>0.922306</td>\n",
       "      <td>0.921592</td>\n",
       "    </tr>\n",
       "    <tr>\n",
       "      <th>left canine index intraoral</th>\n",
       "      <td>0.235405</td>\n",
       "      <td>NaN</td>\n",
       "      <td>0.112364</td>\n",
       "      <td>-0.343861</td>\n",
       "      <td>-0.283392</td>\n",
       "      <td>0.506583</td>\n",
       "      <td>0.506022</td>\n",
       "      <td>0.540797</td>\n",
       "      <td>0.546163</td>\n",
       "      <td>0.799557</td>\n",
       "      <td>0.922306</td>\n",
       "      <td>1.000000</td>\n",
       "      <td>0.999323</td>\n",
       "    </tr>\n",
       "    <tr>\n",
       "      <th>left canine index casts</th>\n",
       "      <td>0.238842</td>\n",
       "      <td>NaN</td>\n",
       "      <td>0.109734</td>\n",
       "      <td>-0.338299</td>\n",
       "      <td>-0.279846</td>\n",
       "      <td>0.510783</td>\n",
       "      <td>0.510247</td>\n",
       "      <td>0.545525</td>\n",
       "      <td>0.551036</td>\n",
       "      <td>0.798836</td>\n",
       "      <td>0.921592</td>\n",
       "      <td>0.999323</td>\n",
       "      <td>1.000000</td>\n",
       "    </tr>\n",
       "  </tbody>\n",
       "</table>\n",
       "</div>"
      ],
      "text/plain": [
       "                                    Sl No  Sample ID       Age  \\\n",
       "Sl No                            1.000000        NaN  0.088024   \n",
       "Sample ID                             NaN        NaN       NaN   \n",
       "Age                              0.088024        NaN  1.000000   \n",
       "inter canine distance intraoral  0.257906        NaN  0.071300   \n",
       "intercanine distance casts       0.121403        NaN  0.033494   \n",
       "right canine width intraoral     0.403237        NaN  0.243534   \n",
       "right canine width casts         0.403315        NaN  0.241017   \n",
       "left canine width intraoral      0.430148        NaN  0.162094   \n",
       "left canine width casts          0.439467        NaN  0.167698   \n",
       "right canine index intra oral    0.148161        NaN  0.101415   \n",
       "right canine index casts         0.201876        NaN  0.199058   \n",
       "left canine index intraoral      0.235405        NaN  0.112364   \n",
       "left canine index casts          0.238842        NaN  0.109734   \n",
       "\n",
       "                                 inter canine distance intraoral  \\\n",
       "Sl No                                                   0.257906   \n",
       "Sample ID                                                    NaN   \n",
       "Age                                                     0.071300   \n",
       "inter canine distance intraoral                         1.000000   \n",
       "intercanine distance casts                              0.755648   \n",
       "right canine width intraoral                            0.564793   \n",
       "right canine width casts                                0.566652   \n",
       "left canine width intraoral                             0.601423   \n",
       "left canine width casts                                 0.590075   \n",
       "right canine index intra oral                          -0.382836   \n",
       "right canine index casts                               -0.352744   \n",
       "left canine index intraoral                            -0.343861   \n",
       "left canine index casts                                -0.338299   \n",
       "\n",
       "                                 intercanine distance casts  \\\n",
       "Sl No                                              0.121403   \n",
       "Sample ID                                               NaN   \n",
       "Age                                                0.033494   \n",
       "inter canine distance intraoral                    0.755648   \n",
       "intercanine distance casts                         1.000000   \n",
       "right canine width intraoral                       0.400577   \n",
       "right canine width casts                           0.402120   \n",
       "left canine width intraoral                        0.435529   \n",
       "left canine width casts                            0.357952   \n",
       "right canine index intra oral                     -0.308260   \n",
       "right canine index casts                          -0.297661   \n",
       "left canine index intraoral                       -0.283392   \n",
       "left canine index casts                           -0.279846   \n",
       "\n",
       "                                 right canine width intraoral  \\\n",
       "Sl No                                                0.403237   \n",
       "Sample ID                                                 NaN   \n",
       "Age                                                  0.243534   \n",
       "inter canine distance intraoral                      0.564793   \n",
       "intercanine distance casts                           0.400577   \n",
       "right canine width intraoral                         1.000000   \n",
       "right canine width casts                             0.999832   \n",
       "left canine width intraoral                          0.941932   \n",
       "left canine width casts                              0.937016   \n",
       "right canine index intra oral                        0.434863   \n",
       "right canine index casts                             0.570471   \n",
       "left canine index intraoral                          0.506583   \n",
       "left canine index casts                              0.510783   \n",
       "\n",
       "                                 right canine width casts  \\\n",
       "Sl No                                            0.403315   \n",
       "Sample ID                                             NaN   \n",
       "Age                                              0.241017   \n",
       "inter canine distance intraoral                  0.566652   \n",
       "intercanine distance casts                       0.402120   \n",
       "right canine width intraoral                     0.999832   \n",
       "right canine width casts                         1.000000   \n",
       "left canine width intraoral                      0.943088   \n",
       "left canine width casts                          0.938069   \n",
       "right canine index intra oral                    0.432951   \n",
       "right canine index casts                         0.568764   \n",
       "left canine index intraoral                      0.506022   \n",
       "left canine index casts                          0.510247   \n",
       "\n",
       "                                 left canine width intraoral  \\\n",
       "Sl No                                               0.430148   \n",
       "Sample ID                                                NaN   \n",
       "Age                                                 0.162094   \n",
       "inter canine distance intraoral                     0.601423   \n",
       "intercanine distance casts                          0.435529   \n",
       "right canine width intraoral                        0.941932   \n",
       "right canine width casts                            0.943088   \n",
       "left canine width intraoral                         1.000000   \n",
       "left canine width casts                             0.994120   \n",
       "right canine index intra oral                       0.341201   \n",
       "right canine index casts                            0.473677   \n",
       "left canine index intraoral                         0.540797   \n",
       "left canine index casts                             0.545525   \n",
       "\n",
       "                                 left canine width casts  \\\n",
       "Sl No                                           0.439467   \n",
       "Sample ID                                            NaN   \n",
       "Age                                             0.167698   \n",
       "inter canine distance intraoral                 0.590075   \n",
       "intercanine distance casts                      0.357952   \n",
       "right canine width intraoral                    0.937016   \n",
       "right canine width casts                        0.938069   \n",
       "left canine width intraoral                     0.994120   \n",
       "left canine width casts                         1.000000   \n",
       "right canine index intra oral                   0.346256   \n",
       "right canine index casts                        0.479567   \n",
       "left canine index intraoral                     0.546163   \n",
       "left canine index casts                         0.551036   \n",
       "\n",
       "                                 right canine index intra oral  \\\n",
       "Sl No                                                 0.148161   \n",
       "Sample ID                                                  NaN   \n",
       "Age                                                   0.101415   \n",
       "inter canine distance intraoral                      -0.382836   \n",
       "intercanine distance casts                           -0.308260   \n",
       "right canine width intraoral                          0.434863   \n",
       "right canine width casts                              0.432951   \n",
       "left canine width intraoral                           0.341201   \n",
       "left canine width casts                               0.346256   \n",
       "right canine index intra oral                         1.000000   \n",
       "right canine index casts                              0.876839   \n",
       "left canine index intraoral                           0.799557   \n",
       "left canine index casts                               0.798836   \n",
       "\n",
       "                                 right canine index casts  \\\n",
       "Sl No                                            0.201876   \n",
       "Sample ID                                             NaN   \n",
       "Age                                              0.199058   \n",
       "inter canine distance intraoral                 -0.352744   \n",
       "intercanine distance casts                      -0.297661   \n",
       "right canine width intraoral                     0.570471   \n",
       "right canine width casts                         0.568764   \n",
       "left canine width intraoral                      0.473677   \n",
       "left canine width casts                          0.479567   \n",
       "right canine index intra oral                    0.876839   \n",
       "right canine index casts                         1.000000   \n",
       "left canine index intraoral                      0.922306   \n",
       "left canine index casts                          0.921592   \n",
       "\n",
       "                                 left canine index intraoral  \\\n",
       "Sl No                                               0.235405   \n",
       "Sample ID                                                NaN   \n",
       "Age                                                 0.112364   \n",
       "inter canine distance intraoral                    -0.343861   \n",
       "intercanine distance casts                         -0.283392   \n",
       "right canine width intraoral                        0.506583   \n",
       "right canine width casts                            0.506022   \n",
       "left canine width intraoral                         0.540797   \n",
       "left canine width casts                             0.546163   \n",
       "right canine index intra oral                       0.799557   \n",
       "right canine index casts                            0.922306   \n",
       "left canine index intraoral                         1.000000   \n",
       "left canine index casts                             0.999323   \n",
       "\n",
       "                                 left canine index casts  \n",
       "Sl No                                           0.238842  \n",
       "Sample ID                                            NaN  \n",
       "Age                                             0.109734  \n",
       "inter canine distance intraoral                -0.338299  \n",
       "intercanine distance casts                     -0.279846  \n",
       "right canine width intraoral                    0.510783  \n",
       "right canine width casts                        0.510247  \n",
       "left canine width intraoral                     0.545525  \n",
       "left canine width casts                         0.551036  \n",
       "right canine index intra oral                   0.798836  \n",
       "right canine index casts                        0.921592  \n",
       "left canine index intraoral                     0.999323  \n",
       "left canine index casts                         1.000000  "
      ]
     },
     "execution_count": 10,
     "metadata": {},
     "output_type": "execute_result"
    }
   ],
   "source": [
    "dt.corr()"
   ]
  },
  {
   "cell_type": "code",
   "execution_count": 11,
   "id": "dc2246e8",
   "metadata": {},
   "outputs": [
    {
     "ename": "SyntaxError",
     "evalue": "invalid syntax (1118962691.py, line 1)",
     "output_type": "error",
     "traceback": [
      "\u001b[1;36m  Input \u001b[1;32mIn [11]\u001b[1;36m\u001b[0m\n\u001b[1;33m    sns.\u001b[0m\n\u001b[1;37m        ^\u001b[0m\n\u001b[1;31mSyntaxError\u001b[0m\u001b[1;31m:\u001b[0m invalid syntax\n"
     ]
    }
   ],
   "source": [
    "sns."
   ]
  },
  {
   "cell_type": "code",
   "execution_count": null,
   "id": "2fe81100",
   "metadata": {},
   "outputs": [],
   "source": [
    "sns.countplot(dt['Gender'])\n"
   ]
  },
  {
   "cell_type": "code",
   "execution_count": null,
   "id": "1248ea0d",
   "metadata": {},
   "outputs": [],
   "source": [
    "sns.countplot(x='Gender', data=dt)"
   ]
  },
  {
   "cell_type": "code",
   "execution_count": null,
   "id": "7469233c",
   "metadata": {},
   "outputs": [],
   "source": []
  },
  {
   "cell_type": "code",
   "execution_count": 1,
   "id": "ab9af506",
   "metadata": {},
   "outputs": [
    {
     "ename": "NameError",
     "evalue": "name 'plt' is not defined",
     "output_type": "error",
     "traceback": [
      "\u001b[1;31m---------------------------------------------------------------------------\u001b[0m",
      "\u001b[1;31mNameError\u001b[0m                                 Traceback (most recent call last)",
      "Input \u001b[1;32mIn [1]\u001b[0m, in \u001b[0;36m<cell line: 1>\u001b[1;34m()\u001b[0m\n\u001b[1;32m----> 1\u001b[0m \u001b[43mplt\u001b[49m\u001b[38;5;241m.\u001b[39mfigure(figsize\u001b[38;5;241m=\u001b[39m(\u001b[38;5;241m20\u001b[39m,\u001b[38;5;241m20\u001b[39m))\n\u001b[0;32m      2\u001b[0m matrix \u001b[38;5;241m=\u001b[39m dt\u001b[38;5;241m.\u001b[39mcorr()\n\u001b[0;32m      3\u001b[0m sns\u001b[38;5;241m.\u001b[39mheatmap(matrix, cmap\u001b[38;5;241m=\u001b[39m\u001b[38;5;124m'\u001b[39m\u001b[38;5;124mcoolwarm\u001b[39m\u001b[38;5;124m'\u001b[39m, fmt\u001b[38;5;241m=\u001b[39m\u001b[38;5;124m'\u001b[39m\u001b[38;5;124m.0\u001b[39m\u001b[38;5;124m%\u001b[39m\u001b[38;5;124m'\u001b[39m, annot\u001b[38;5;241m=\u001b[39m\u001b[38;5;28;01mTrue\u001b[39;00m)\n",
      "\u001b[1;31mNameError\u001b[0m: name 'plt' is not defined"
     ]
    }
   ],
   "source": [
    "plt.figure(figsize=(20,20))\n",
    "matrix = dt.corr()\n",
    "sns.heatmap(matrix, cmap='coolwarm', fmt='.0%', annot=True)\n",
    "matrix"
   ]
  },
  {
   "cell_type": "markdown",
   "id": "0c18d398",
   "metadata": {},
   "source": [
    "X = dt[['Age','inter canine distance intraoral', 'intercanine distance casts', 'right canine width intraoral', 'right canine width casts', 'left canine width intraoral' , 'left canine width casts', 'right canine index intra oral', 'right canine index casts', 'left canine index intraoral', 'left canine index casts']]"
   ]
  },
  {
   "cell_type": "code",
   "execution_count": 18,
   "id": "ae54c672",
   "metadata": {},
   "outputs": [],
   "source": [
    "Y = dt['Gender']"
   ]
  },
  {
   "cell_type": "markdown",
   "id": "42d07f48",
   "metadata": {},
   "source": [
    "from sklearn.preprocessing import StandardScaler\n",
    "SS = StandardScaler()\n",
    "X_ss = SS.fit_transform(X)"
   ]
  },
  {
   "cell_type": "code",
   "execution_count": 19,
   "id": "4e9a6875",
   "metadata": {},
   "outputs": [],
   "source": [
    "X = dt.drop(['Gender'], axis=1)"
   ]
  },
  {
   "cell_type": "code",
   "execution_count": 20,
   "id": "c5e5d112",
   "metadata": {},
   "outputs": [
    {
     "data": {
      "text/html": [
       "<div>\n",
       "<style scoped>\n",
       "    .dataframe tbody tr th:only-of-type {\n",
       "        vertical-align: middle;\n",
       "    }\n",
       "\n",
       "    .dataframe tbody tr th {\n",
       "        vertical-align: top;\n",
       "    }\n",
       "\n",
       "    .dataframe thead th {\n",
       "        text-align: right;\n",
       "    }\n",
       "</style>\n",
       "<table border=\"1\" class=\"dataframe\">\n",
       "  <thead>\n",
       "    <tr style=\"text-align: right;\">\n",
       "      <th></th>\n",
       "      <th>Sl No</th>\n",
       "      <th>Sample ID</th>\n",
       "      <th>Age</th>\n",
       "      <th>inter canine distance intraoral</th>\n",
       "      <th>intercanine distance casts</th>\n",
       "      <th>right canine width intraoral</th>\n",
       "      <th>right canine width casts</th>\n",
       "      <th>left canine width intraoral</th>\n",
       "      <th>left canine width casts</th>\n",
       "      <th>right canine index intra oral</th>\n",
       "      <th>right canine index casts</th>\n",
       "      <th>left canine index intraoral</th>\n",
       "      <th>left canine index casts</th>\n",
       "    </tr>\n",
       "  </thead>\n",
       "  <tbody>\n",
       "    <tr>\n",
       "      <th>0</th>\n",
       "      <td>1</td>\n",
       "      <td>NaN</td>\n",
       "      <td>24</td>\n",
       "      <td>25.06</td>\n",
       "      <td>25.05</td>\n",
       "      <td>6.08</td>\n",
       "      <td>6.08</td>\n",
       "      <td>6.09</td>\n",
       "      <td>6.10</td>\n",
       "      <td>0.242</td>\n",
       "      <td>0.242</td>\n",
       "      <td>0.242</td>\n",
       "      <td>0.241</td>\n",
       "    </tr>\n",
       "    <tr>\n",
       "      <th>1</th>\n",
       "      <td>2</td>\n",
       "      <td>NaN</td>\n",
       "      <td>22</td>\n",
       "      <td>25.78</td>\n",
       "      <td>25.79</td>\n",
       "      <td>6.13</td>\n",
       "      <td>6.13</td>\n",
       "      <td>6.33</td>\n",
       "      <td>6.33</td>\n",
       "      <td>0.237</td>\n",
       "      <td>0.237</td>\n",
       "      <td>0.247</td>\n",
       "      <td>0.247</td>\n",
       "    </tr>\n",
       "    <tr>\n",
       "      <th>2</th>\n",
       "      <td>3</td>\n",
       "      <td>NaN</td>\n",
       "      <td>23</td>\n",
       "      <td>23.83</td>\n",
       "      <td>23.83</td>\n",
       "      <td>5.91</td>\n",
       "      <td>5.96</td>\n",
       "      <td>6.28</td>\n",
       "      <td>6.28</td>\n",
       "      <td>0.248</td>\n",
       "      <td>0.248</td>\n",
       "      <td>0.264</td>\n",
       "      <td>0.264</td>\n",
       "    </tr>\n",
       "    <tr>\n",
       "      <th>3</th>\n",
       "      <td>4</td>\n",
       "      <td>NaN</td>\n",
       "      <td>20</td>\n",
       "      <td>26.12</td>\n",
       "      <td>26.12</td>\n",
       "      <td>6.08</td>\n",
       "      <td>6.08</td>\n",
       "      <td>6.56</td>\n",
       "      <td>6.56</td>\n",
       "      <td>0.232</td>\n",
       "      <td>0.232</td>\n",
       "      <td>0.250</td>\n",
       "      <td>0.250</td>\n",
       "    </tr>\n",
       "    <tr>\n",
       "      <th>4</th>\n",
       "      <td>5</td>\n",
       "      <td>NaN</td>\n",
       "      <td>20</td>\n",
       "      <td>26.36</td>\n",
       "      <td>26.41</td>\n",
       "      <td>6.09</td>\n",
       "      <td>6.09</td>\n",
       "      <td>6.50</td>\n",
       "      <td>6.50</td>\n",
       "      <td>0.231</td>\n",
       "      <td>0.231</td>\n",
       "      <td>0.246</td>\n",
       "      <td>0.246</td>\n",
       "    </tr>\n",
       "    <tr>\n",
       "      <th>...</th>\n",
       "      <td>...</td>\n",
       "      <td>...</td>\n",
       "      <td>...</td>\n",
       "      <td>...</td>\n",
       "      <td>...</td>\n",
       "      <td>...</td>\n",
       "      <td>...</td>\n",
       "      <td>...</td>\n",
       "      <td>...</td>\n",
       "      <td>...</td>\n",
       "      <td>...</td>\n",
       "      <td>...</td>\n",
       "      <td>...</td>\n",
       "    </tr>\n",
       "    <tr>\n",
       "      <th>1095</th>\n",
       "      <td>1096</td>\n",
       "      <td>NaN</td>\n",
       "      <td>24</td>\n",
       "      <td>24.29</td>\n",
       "      <td>24.29</td>\n",
       "      <td>6.58</td>\n",
       "      <td>6.58</td>\n",
       "      <td>6.60</td>\n",
       "      <td>6.60</td>\n",
       "      <td>0.271</td>\n",
       "      <td>0.271</td>\n",
       "      <td>0.272</td>\n",
       "      <td>0.272</td>\n",
       "    </tr>\n",
       "    <tr>\n",
       "      <th>1096</th>\n",
       "      <td>1097</td>\n",
       "      <td>NaN</td>\n",
       "      <td>22</td>\n",
       "      <td>25.22</td>\n",
       "      <td>25.22</td>\n",
       "      <td>6.70</td>\n",
       "      <td>6.70</td>\n",
       "      <td>6.80</td>\n",
       "      <td>6.80</td>\n",
       "      <td>0.265</td>\n",
       "      <td>0.265</td>\n",
       "      <td>0.269</td>\n",
       "      <td>0.269</td>\n",
       "    </tr>\n",
       "    <tr>\n",
       "      <th>1097</th>\n",
       "      <td>1098</td>\n",
       "      <td>NaN</td>\n",
       "      <td>25</td>\n",
       "      <td>24.24</td>\n",
       "      <td>24.24</td>\n",
       "      <td>6.60</td>\n",
       "      <td>6.60</td>\n",
       "      <td>6.61</td>\n",
       "      <td>6.61</td>\n",
       "      <td>0.272</td>\n",
       "      <td>0.272</td>\n",
       "      <td>0.272</td>\n",
       "      <td>0.272</td>\n",
       "    </tr>\n",
       "    <tr>\n",
       "      <th>1098</th>\n",
       "      <td>1099</td>\n",
       "      <td>NaN</td>\n",
       "      <td>21</td>\n",
       "      <td>24.87</td>\n",
       "      <td>24.87</td>\n",
       "      <td>6.57</td>\n",
       "      <td>6.57</td>\n",
       "      <td>6.66</td>\n",
       "      <td>6.66</td>\n",
       "      <td>0.264</td>\n",
       "      <td>0.264</td>\n",
       "      <td>0.267</td>\n",
       "      <td>0.267</td>\n",
       "    </tr>\n",
       "    <tr>\n",
       "      <th>1099</th>\n",
       "      <td>1100</td>\n",
       "      <td>NaN</td>\n",
       "      <td>23</td>\n",
       "      <td>24.51</td>\n",
       "      <td>24.51</td>\n",
       "      <td>6.36</td>\n",
       "      <td>6.36</td>\n",
       "      <td>6.78</td>\n",
       "      <td>6.78</td>\n",
       "      <td>0.259</td>\n",
       "      <td>0.259</td>\n",
       "      <td>0.276</td>\n",
       "      <td>0.276</td>\n",
       "    </tr>\n",
       "  </tbody>\n",
       "</table>\n",
       "<p>1100 rows × 13 columns</p>\n",
       "</div>"
      ],
      "text/plain": [
       "      Sl No  Sample ID  Age  inter canine distance intraoral  \\\n",
       "0         1        NaN   24                            25.06   \n",
       "1         2        NaN   22                            25.78   \n",
       "2         3        NaN   23                            23.83   \n",
       "3         4        NaN   20                            26.12   \n",
       "4         5        NaN   20                            26.36   \n",
       "...     ...        ...  ...                              ...   \n",
       "1095   1096        NaN   24                            24.29   \n",
       "1096   1097        NaN   22                            25.22   \n",
       "1097   1098        NaN   25                            24.24   \n",
       "1098   1099        NaN   21                            24.87   \n",
       "1099   1100        NaN   23                            24.51   \n",
       "\n",
       "      intercanine distance casts  right canine width intraoral  \\\n",
       "0                          25.05                          6.08   \n",
       "1                          25.79                          6.13   \n",
       "2                          23.83                          5.91   \n",
       "3                          26.12                          6.08   \n",
       "4                          26.41                          6.09   \n",
       "...                          ...                           ...   \n",
       "1095                       24.29                          6.58   \n",
       "1096                       25.22                          6.70   \n",
       "1097                       24.24                          6.60   \n",
       "1098                       24.87                          6.57   \n",
       "1099                       24.51                          6.36   \n",
       "\n",
       "      right canine width casts  left canine width intraoral  \\\n",
       "0                         6.08                         6.09   \n",
       "1                         6.13                         6.33   \n",
       "2                         5.96                         6.28   \n",
       "3                         6.08                         6.56   \n",
       "4                         6.09                         6.50   \n",
       "...                        ...                          ...   \n",
       "1095                      6.58                         6.60   \n",
       "1096                      6.70                         6.80   \n",
       "1097                      6.60                         6.61   \n",
       "1098                      6.57                         6.66   \n",
       "1099                      6.36                         6.78   \n",
       "\n",
       "      left canine width casts  right canine index intra oral  \\\n",
       "0                        6.10                          0.242   \n",
       "1                        6.33                          0.237   \n",
       "2                        6.28                          0.248   \n",
       "3                        6.56                          0.232   \n",
       "4                        6.50                          0.231   \n",
       "...                       ...                            ...   \n",
       "1095                     6.60                          0.271   \n",
       "1096                     6.80                          0.265   \n",
       "1097                     6.61                          0.272   \n",
       "1098                     6.66                          0.264   \n",
       "1099                     6.78                          0.259   \n",
       "\n",
       "      right canine index casts  left canine index intraoral  \\\n",
       "0                        0.242                        0.242   \n",
       "1                        0.237                        0.247   \n",
       "2                        0.248                        0.264   \n",
       "3                        0.232                        0.250   \n",
       "4                        0.231                        0.246   \n",
       "...                        ...                          ...   \n",
       "1095                     0.271                        0.272   \n",
       "1096                     0.265                        0.269   \n",
       "1097                     0.272                        0.272   \n",
       "1098                     0.264                        0.267   \n",
       "1099                     0.259                        0.276   \n",
       "\n",
       "      left canine index casts  \n",
       "0                       0.241  \n",
       "1                       0.247  \n",
       "2                       0.264  \n",
       "3                       0.250  \n",
       "4                       0.246  \n",
       "...                       ...  \n",
       "1095                    0.272  \n",
       "1096                    0.269  \n",
       "1097                    0.272  \n",
       "1098                    0.267  \n",
       "1099                    0.276  \n",
       "\n",
       "[1100 rows x 13 columns]"
      ]
     },
     "execution_count": 20,
     "metadata": {},
     "output_type": "execute_result"
    }
   ],
   "source": [
    "X"
   ]
  },
  {
   "cell_type": "code",
   "execution_count": 21,
   "id": "5c631d02",
   "metadata": {},
   "outputs": [],
   "source": [
    "from sklearn.preprocessing import LabelEncoder\n",
    "LE = LabelEncoder()\n",
    "\n",
    "dt['Gender'] = LE.fit_transform(dt['Gender'])\n",
    "Y = dt['Gender']"
   ]
  },
  {
   "cell_type": "markdown",
   "id": "270b0c44",
   "metadata": {},
   "source": [
    "from sklearn.model_selection import train_test_split\n",
    "X_train, X_test, Y_train, Y_test = train_test_split(X_ss,Y,train_size=0.70, random_state=100000)\n",
    "\n",
    "from sklearn.linear_model import LogisticRegression\n",
    "logreg = LogisticRegression()\n",
    "logreg.fit(X_train, Y_train)\n"
   ]
  },
  {
   "cell_type": "markdown",
   "id": "ef029563",
   "metadata": {},
   "source": [
    "Y_predict_train = logreg.predict(X_train)\n",
    "Y_predict_test = logreg.predict(X_test)"
   ]
  },
  {
   "cell_type": "markdown",
   "id": "aa6cb027",
   "metadata": {},
   "source": [
    "from sklearn.metrics import accuracy_score, roc_curve,roc_auc_score\n",
    "print(\"Accuracy Score Training Data\", accuracy_score(Y_train,Y_predict_train).round(2))\n",
    "print(\"Accuracy Score Test Data\", accuracy_score(Y_test,Y_predict_test).round(2))"
   ]
  },
  {
   "cell_type": "markdown",
   "id": "9ac324b9",
   "metadata": {},
   "source": [
    "logreg.predict_proba(X_ss)[:,1]"
   ]
  },
  {
   "cell_type": "markdown",
   "id": "8d61ecff",
   "metadata": {},
   "source": [
    "TPR, FPR, dummy = roc_curve(Y,logreg.predict_proba(X_ss)[:,1])"
   ]
  },
  {
   "cell_type": "markdown",
   "id": "bfa4e013",
   "metadata": {},
   "source": [
    "print (\"AUC Value\", roc_auc_score(Y,logreg.predict_proba(X_ss)[:,1]).round(4))"
   ]
  },
  {
   "cell_type": "markdown",
   "id": "c16c82b6",
   "metadata": {},
   "source": [
    "from sklearn.tree import DecisionTreeRegressor\n",
    "\n",
    "#bagging method\n",
    "\n",
    "from sklearn.ensemble import BaggingRegressor\n",
    "from sklearn.metrics import mean_squared_error\n",
    "dt1 = DecisionTreeRegressor(max_depth=10)\n",
    "bag = BaggingRegressor(dt1,n_estimators=1000, max_samples=0.7 , max_features=0.7, bootstrap=False)\n",
    "bag.fit(X_train,Y_train)\n",
    "Y_pred_train = bag.predict(X_train)\n",
    "Y_pred_test = bag.predict(X_test)\n",
    "mse_train = mean_squared_error(Y_train,Y_pred_train)\n",
    "mse_test = mean_squared_error(Y_test,Y_pred_test)\n",
    "print(\"mean squared error train\", mse_train.round(2))\n",
    "print(\"mean squared error test\", mse_test.round(2))"
   ]
  },
  {
   "cell_type": "markdown",
   "id": "d6fb0c95",
   "metadata": {},
   "source": [
    "#Randomforest\n",
    "\n",
    "from sklearn.ensemble import RandomForestRegressor\n",
    "RFR = RandomForestRegressor(max_depth=5, n_estimators=10000, max_samples=0.7,max_features=0.7, bootstrap=True)\n",
    "RFR.fit(X_train,Y_train)\n",
    "Y_pred_train = RFR.predict(X_train)\n",
    "Y_pred_test = RFR.predict(X_test)\n",
    "from sklearn.metrics import mean_squared_error\n",
    "mse_r_train = mean_squared_error(Y_train,Y_pred_train)\n",
    "mse_r_test = mean_squared_error(Y_test,Y_pred_test)\n",
    "print(\"mean squared error train\", mse_r_train.round(2))\n",
    "print(\"mean squared error test\", mse_r_test.round(2))"
   ]
  },
  {
   "cell_type": "markdown",
   "id": "57acf0f1",
   "metadata": {},
   "source": [
    "from sklearn.ensemble import GradientBoostingRegressor\n",
    "GBR = GradientBoostingRegressor(max_depth=5, n_estimators=100, learning_rate=0.01)\n",
    "GBR.fit(X_train,Y_train)\n",
    "Y_pred_train = GBR.predict(X_train)\n",
    "Y_pred_test = GBR.predict(X_test)\n",
    "from sklearn.metrics import mean_squared_error\n",
    "mse_r_train = mean_squared_error(Y_train,Y_pred_train)\n",
    "mse_r_test = mean_squared_error(Y_test,Y_pred_test)\n",
    "print(\"mean squared error train\", mse_r_train.round(2))\n",
    "print(\"mean squared error test\", mse_r_test.round(2))"
   ]
  },
  {
   "cell_type": "markdown",
   "id": "23ce1998",
   "metadata": {},
   "source": [
    "from xgboost import XGBClassifier\n",
    "XGBClassifier()\n",
    "XGB = XGBClassifier(gamma=10,reg_lambda=4,n_estimators=100)\n",
    "XGB.fit(X_train,Y_train)\n",
    "Y_pred_train = XGB.predict(X_train)\n",
    "Y_pred_test = XGB.predict(X_test)\n",
    "from sklearn.metrics import mean_squared_error\n",
    "mse_r_train = mean_squared_error(Y_train,Y_pred_train)\n",
    "mse_r_test = mean_squared_error(Y_test,Y_pred_test)\n",
    "print(\"mean squared error train\", mse_r_train.round(2))\n",
    "print(\"mean squared error test\", mse_r_test.round(2))"
   ]
  },
  {
   "cell_type": "code",
   "execution_count": 22,
   "id": "b2ebb0bb",
   "metadata": {},
   "outputs": [
    {
     "data": {
      "image/png": "[encoded data removed]",
      "text/plain": [
       "<Figure size 1152x720 with 1 Axes>"
      ]
     },
     "metadata": {
      "needs_background": "light"
     },
     "output_type": "display_data"
    }
   ],
   "source": [
    "fig = plt.figure(figsize=(16,10))\n",
    "sns.boxplot(data=dt,linewidth=1)\n",
    "plt.xticks(rotation='vertical')\n",
    "plt.show()"
   ]
  },
  {
   "cell_type": "code",
   "execution_count": null,
   "id": "1e3cd557",
   "metadata": {},
   "outputs": [],
   "source": []
  },
  {
   "cell_type": "code",
   "execution_count": 1,
   "id": "827b9e45",
   "metadata": {},
   "outputs": [
    {
     "ename": "NameError",
     "evalue": "name 'dt' is not defined",
     "output_type": "error",
     "traceback": [
      "\u001b[1;31m---------------------------------------------------------------------------\u001b[0m",
      "\u001b[1;31mNameError\u001b[0m                                 Traceback (most recent call last)",
      "Input \u001b[1;32mIn [1]\u001b[0m, in \u001b[0;36m<cell line: 2>\u001b[1;34m()\u001b[0m\n\u001b[0;32m      1\u001b[0m drop_column_list \u001b[38;5;241m=\u001b[39m [\u001b[38;5;124m\"\u001b[39m\u001b[38;5;124mSample ID\u001b[39m\u001b[38;5;124m\"\u001b[39m, \u001b[38;5;124m\"\u001b[39m\u001b[38;5;124mSl No\u001b[39m\u001b[38;5;124m\"\u001b[39m]\n\u001b[1;32m----> 2\u001b[0m \u001b[43mdt\u001b[49m\u001b[38;5;241m.\u001b[39mdrop(drop_column_list, inplace\u001b[38;5;241m=\u001b[39m \u001b[38;5;28;01mTrue\u001b[39;00m, axis\u001b[38;5;241m=\u001b[39m\u001b[38;5;241m1\u001b[39m)\n",
      "\u001b[1;31mNameError\u001b[0m: name 'dt' is not defined"
     ]
    }
   ],
   "source": [
    "drop_column_list = [\"Sample ID\", \"Sl No\"]\n",
    "dt.drop(drop_column_list, inplace= True, axis=1)"
   ]
  },
  {
   "cell_type": "code",
   "execution_count": null,
   "id": "d98378e5",
   "metadata": {},
   "outputs": [],
   "source": [
    "dt.info()"
   ]
  },
  {
   "cell_type": "code",
   "execution_count": 2,
   "id": "2007061f",
   "metadata": {},
   "outputs": [
    {
     "ename": "NameError",
     "evalue": "name 'dt' is not defined",
     "output_type": "error",
     "traceback": [
      "\u001b[1;31m---------------------------------------------------------------------------\u001b[0m",
      "\u001b[1;31mNameError\u001b[0m                                 Traceback (most recent call last)",
      "Input \u001b[1;32mIn [2]\u001b[0m, in \u001b[0;36m<cell line: 1>\u001b[1;34m()\u001b[0m\n\u001b[1;32m----> 1\u001b[0m \u001b[38;5;28mprint\u001b[39m(\u001b[43mdt\u001b[49m[\u001b[38;5;124m'\u001b[39m\u001b[38;5;124mAge\u001b[39m\u001b[38;5;124m'\u001b[39m]\u001b[38;5;241m.\u001b[39munique())\n",
      "\u001b[1;31mNameError\u001b[0m: name 'dt' is not defined"
     ]
    }
   ],
   "source": [
    "print(dt['Age'].unique())"
   ]
  },
  {
   "cell_type": "code",
   "execution_count": 3,
   "id": "f880f4c6",
   "metadata": {},
   "outputs": [],
   "source": [
    "import seaborn as sns\n",
    "import warnings\n",
    "warnings.filterwarnings(\"ignore\")"
   ]
  },
  {
   "cell_type": "code",
   "execution_count": 4,
   "id": "dfb0bfc4",
   "metadata": {},
   "outputs": [
    {
     "ename": "NameError",
     "evalue": "name 'dt' is not defined",
     "output_type": "error",
     "traceback": [
      "\u001b[1;31m---------------------------------------------------------------------------\u001b[0m",
      "\u001b[1;31mNameError\u001b[0m                                 Traceback (most recent call last)",
      "Input \u001b[1;32mIn [4]\u001b[0m, in \u001b[0;36m<cell line: 1>\u001b[1;34m()\u001b[0m\n\u001b[1;32m----> 1\u001b[0m sns\u001b[38;5;241m.\u001b[39mcountplot(\u001b[43mdt\u001b[49m[\u001b[38;5;124m'\u001b[39m\u001b[38;5;124mGender\u001b[39m\u001b[38;5;124m'\u001b[39m])\n",
      "\u001b[1;31mNameError\u001b[0m: name 'dt' is not defined"
     ]
    }
   ],
   "source": [
    "sns.countplot(dt['Gender'])"
   ]
  },
  {
   "cell_type": "code",
   "execution_count": null,
   "id": "60095d1f",
   "metadata": {},
   "outputs": [],
   "source": [
    "dt.describe().transpose()"
   ]
  },
  {
   "cell_type": "code",
   "execution_count": null,
   "id": "77f0e29c",
   "metadata": {},
   "outputs": [],
   "source": []
  },
  {
   "cell_type": "code",
   "execution_count": null,
   "id": "6e2b5731",
   "metadata": {},
   "outputs": [],
   "source": [
    "def outliers(dt,ft):\n",
    "    Q1 = dt[ft].quantile(0.25)\n",
    "    Q3 = dt[ft].quantile(0.75)\n",
    "    IQR = Q3-Q1\n",
    "    lower_bound = Q1-1.5*IQR\n",
    "    upper_bound = Q3+1.5*IQR\n",
    "    ls = dt.index[(dt[ft]<lower_bound) | (dt[ft]>upper_bound)]\n",
    "    return ls"
   ]
  },
  {
   "cell_type": "code",
   "execution_count": null,
   "id": "6c4fdcbc",
   "metadata": {},
   "outputs": [],
   "source": [
    "def remove(dt,ls):\n",
    "    ls = sorted(set(ls))\n",
    "    df = dt.drop(ls)\n",
    "    return dt"
   ]
  },
  {
   "cell_type": "code",
   "execution_count": 31,
   "id": "2397e96b",
   "metadata": {},
   "outputs": [
    {
     "name": "stdout",
     "output_type": "stream",
     "text": [
      "<class 'pandas.core.frame.DataFrame'>\n",
      "RangeIndex: 1100 entries, 0 to 1099\n",
      "Data columns (total 12 columns):\n",
      " #   Column                           Non-Null Count  Dtype  \n",
      "---  ------                           --------------  -----  \n",
      " 0   Age                              1100 non-null   int64  \n",
      " 1   Gender                           1100 non-null   int32  \n",
      " 2   inter canine distance intraoral  1100 non-null   float64\n",
      " 3   intercanine distance casts       1100 non-null   float64\n",
      " 4   right canine width intraoral     1100 non-null   float64\n",
      " 5   right canine width casts         1100 non-null   float64\n",
      " 6   left canine width intraoral      1100 non-null   float64\n",
      " 7   left canine width casts          1100 non-null   float64\n",
      " 8   right canine index intra oral    1100 non-null   float64\n",
      " 9   right canine index casts         1100 non-null   float64\n",
      " 10  left canine index intraoral      1100 non-null   float64\n",
      " 11  left canine index casts          1100 non-null   float64\n",
      "dtypes: float64(10), int32(1), int64(1)\n",
      "memory usage: 99.0 KB\n"
     ]
    }
   ],
   "source": [
    "dt.info()"
   ]
  },
  {
   "cell_type": "code",
   "execution_count": 32,
   "id": "0dc25363",
   "metadata": {},
   "outputs": [],
   "source": [
    "index_list = []\n",
    "\n",
    "for feature in ['Age', 'Gender', 'inter canine distance intraoral','intercanine distance casts', 'right canine width intraoral', 'right canine width casts', 'left canine width intraoral', 'left canine width casts', 'right canine index intra oral', 'right canine index casts', 'left canine index intraoral', 'left canine index casts' ]:\n",
    "    index_list.extend(outliers(dt,feature))\n",
    "    \n",
    "dt1 = remove (dt, index_list)    "
   ]
  },
  {
   "cell_type": "code",
   "execution_count": 33,
   "id": "cbeade54",
   "metadata": {},
   "outputs": [
    {
     "data": {
      "text/plain": [
       "(1100, 12)"
      ]
     },
     "execution_count": 33,
     "metadata": {},
     "output_type": "execute_result"
    }
   ],
   "source": [
    "dt1.shape"
   ]
  },
  {
   "cell_type": "code",
   "execution_count": 34,
   "id": "d3a551aa",
   "metadata": {},
   "outputs": [
    {
     "data": {
      "text/plain": [
       "(1100, 12)"
      ]
     },
     "execution_count": 34,
     "metadata": {},
     "output_type": "execute_result"
    }
   ],
   "source": [
    "dt1.shape"
   ]
  },
  {
   "cell_type": "code",
   "execution_count": 35,
   "id": "8ed2812a",
   "metadata": {},
   "outputs": [],
   "source": [
    "x = dt1.drop(['Gender'], axis = 1)\n",
    "\n",
    "y = dt1['Gender']"
   ]
  },
  {
   "cell_type": "code",
   "execution_count": 36,
   "id": "7c40ef00",
   "metadata": {},
   "outputs": [
    {
     "data": {
      "text/html": [
       "<div>\n",
       "<style scoped>\n",
       "    .dataframe tbody tr th:only-of-type {\n",
       "        vertical-align: middle;\n",
       "    }\n",
       "\n",
       "    .dataframe tbody tr th {\n",
       "        vertical-align: top;\n",
       "    }\n",
       "\n",
       "    .dataframe thead th {\n",
       "        text-align: right;\n",
       "    }\n",
       "</style>\n",
       "<table border=\"1\" class=\"dataframe\">\n",
       "  <thead>\n",
       "    <tr style=\"text-align: right;\">\n",
       "      <th></th>\n",
       "      <th>features</th>\n",
       "      <th>k_scores</th>\n",
       "    </tr>\n",
       "  </thead>\n",
       "  <tbody>\n",
       "    <tr>\n",
       "      <th>6</th>\n",
       "      <td>left canine width casts</td>\n",
       "      <td>9.476295</td>\n",
       "    </tr>\n",
       "    <tr>\n",
       "      <th>5</th>\n",
       "      <td>left canine width intraoral</td>\n",
       "      <td>9.131350</td>\n",
       "    </tr>\n",
       "    <tr>\n",
       "      <th>1</th>\n",
       "      <td>inter canine distance intraoral</td>\n",
       "      <td>8.481474</td>\n",
       "    </tr>\n",
       "    <tr>\n",
       "      <th>3</th>\n",
       "      <td>right canine width intraoral</td>\n",
       "      <td>7.489029</td>\n",
       "    </tr>\n",
       "    <tr>\n",
       "      <th>4</th>\n",
       "      <td>right canine width casts</td>\n",
       "      <td>7.432046</td>\n",
       "    </tr>\n",
       "    <tr>\n",
       "      <th>2</th>\n",
       "      <td>intercanine distance casts</td>\n",
       "      <td>4.808633</td>\n",
       "    </tr>\n",
       "    <tr>\n",
       "      <th>0</th>\n",
       "      <td>Age</td>\n",
       "      <td>3.733143</td>\n",
       "    </tr>\n",
       "    <tr>\n",
       "      <th>10</th>\n",
       "      <td>left canine index casts</td>\n",
       "      <td>0.095851</td>\n",
       "    </tr>\n",
       "    <tr>\n",
       "      <th>9</th>\n",
       "      <td>left canine index intraoral</td>\n",
       "      <td>0.094092</td>\n",
       "    </tr>\n",
       "    <tr>\n",
       "      <th>8</th>\n",
       "      <td>right canine index casts</td>\n",
       "      <td>0.063064</td>\n",
       "    </tr>\n",
       "  </tbody>\n",
       "</table>\n",
       "</div>"
      ],
      "text/plain": [
       "                           features  k_scores\n",
       "6           left canine width casts  9.476295\n",
       "5       left canine width intraoral  9.131350\n",
       "1   inter canine distance intraoral  8.481474\n",
       "3      right canine width intraoral  7.489029\n",
       "4          right canine width casts  7.432046\n",
       "2        intercanine distance casts  4.808633\n",
       "0                               Age  3.733143\n",
       "10          left canine index casts  0.095851\n",
       "9       left canine index intraoral  0.094092\n",
       "8          right canine index casts  0.063064"
      ]
     },
     "execution_count": 36,
     "metadata": {},
     "output_type": "execute_result"
    }
   ],
   "source": [
    "from sklearn.feature_selection import SelectKBest\n",
    "from sklearn.feature_selection import chi2\n",
    "\n",
    "select_kbest_rank_feature = SelectKBest(score_func = chi2, k=5)\n",
    "kbest_feature = select_kbest_rank_feature.fit(x,y)\n",
    "df_score = pd.DataFrame (kbest_feature.scores_,columns= ['Score'])\n",
    "dfcolumns = pd.DataFrame (x.columns)\n",
    "\n",
    "kbest_rank_feature_concat = pd.concat([dfcolumns, df_score], axis=1)\n",
    "kbest_rank_feature_concat.columns = ['features', 'k_scores']\n",
    "kbest_rank_feature_concat\n",
    "\n",
    "kbest_rank_feature_concat.nlargest(10,'k_scores')"
   ]
  },
  {
   "cell_type": "code",
   "execution_count": 37,
   "id": "6cfbbcb8",
   "metadata": {},
   "outputs": [],
   "source": [
    "x = dt1.drop(['Age','Gender','left canine index casts','left canine index intraoral','right canine index casts'], axis=1 )"
   ]
  },
  {
   "cell_type": "code",
   "execution_count": 38,
   "id": "b2061670",
   "metadata": {},
   "outputs": [
    {
     "data": {
      "text/html": [
       "<div>\n",
       "<style scoped>\n",
       "    .dataframe tbody tr th:only-of-type {\n",
       "        vertical-align: middle;\n",
       "    }\n",
       "\n",
       "    .dataframe tbody tr th {\n",
       "        vertical-align: top;\n",
       "    }\n",
       "\n",
       "    .dataframe thead th {\n",
       "        text-align: right;\n",
       "    }\n",
       "</style>\n",
       "<table border=\"1\" class=\"dataframe\">\n",
       "  <thead>\n",
       "    <tr style=\"text-align: right;\">\n",
       "      <th></th>\n",
       "      <th>inter canine distance intraoral</th>\n",
       "      <th>intercanine distance casts</th>\n",
       "      <th>right canine width intraoral</th>\n",
       "      <th>right canine width casts</th>\n",
       "      <th>left canine width intraoral</th>\n",
       "      <th>left canine width casts</th>\n",
       "      <th>right canine index intra oral</th>\n",
       "    </tr>\n",
       "  </thead>\n",
       "  <tbody>\n",
       "    <tr>\n",
       "      <th>inter canine distance intraoral</th>\n",
       "      <td>1.000000</td>\n",
       "      <td>0.755648</td>\n",
       "      <td>0.564793</td>\n",
       "      <td>0.566652</td>\n",
       "      <td>0.601423</td>\n",
       "      <td>0.590075</td>\n",
       "      <td>-0.382836</td>\n",
       "    </tr>\n",
       "    <tr>\n",
       "      <th>intercanine distance casts</th>\n",
       "      <td>0.755648</td>\n",
       "      <td>1.000000</td>\n",
       "      <td>0.400577</td>\n",
       "      <td>0.402120</td>\n",
       "      <td>0.435529</td>\n",
       "      <td>0.357952</td>\n",
       "      <td>-0.308260</td>\n",
       "    </tr>\n",
       "    <tr>\n",
       "      <th>right canine width intraoral</th>\n",
       "      <td>0.564793</td>\n",
       "      <td>0.400577</td>\n",
       "      <td>1.000000</td>\n",
       "      <td>0.999832</td>\n",
       "      <td>0.941932</td>\n",
       "      <td>0.937016</td>\n",
       "      <td>0.434863</td>\n",
       "    </tr>\n",
       "    <tr>\n",
       "      <th>right canine width casts</th>\n",
       "      <td>0.566652</td>\n",
       "      <td>0.402120</td>\n",
       "      <td>0.999832</td>\n",
       "      <td>1.000000</td>\n",
       "      <td>0.943088</td>\n",
       "      <td>0.938069</td>\n",
       "      <td>0.432951</td>\n",
       "    </tr>\n",
       "    <tr>\n",
       "      <th>left canine width intraoral</th>\n",
       "      <td>0.601423</td>\n",
       "      <td>0.435529</td>\n",
       "      <td>0.941932</td>\n",
       "      <td>0.943088</td>\n",
       "      <td>1.000000</td>\n",
       "      <td>0.994120</td>\n",
       "      <td>0.341201</td>\n",
       "    </tr>\n",
       "    <tr>\n",
       "      <th>left canine width casts</th>\n",
       "      <td>0.590075</td>\n",
       "      <td>0.357952</td>\n",
       "      <td>0.937016</td>\n",
       "      <td>0.938069</td>\n",
       "      <td>0.994120</td>\n",
       "      <td>1.000000</td>\n",
       "      <td>0.346256</td>\n",
       "    </tr>\n",
       "    <tr>\n",
       "      <th>right canine index intra oral</th>\n",
       "      <td>-0.382836</td>\n",
       "      <td>-0.308260</td>\n",
       "      <td>0.434863</td>\n",
       "      <td>0.432951</td>\n",
       "      <td>0.341201</td>\n",
       "      <td>0.346256</td>\n",
       "      <td>1.000000</td>\n",
       "    </tr>\n",
       "  </tbody>\n",
       "</table>\n",
       "</div>"
      ],
      "text/plain": [
       "                                 inter canine distance intraoral  \\\n",
       "inter canine distance intraoral                         1.000000   \n",
       "intercanine distance casts                              0.755648   \n",
       "right canine width intraoral                            0.564793   \n",
       "right canine width casts                                0.566652   \n",
       "left canine width intraoral                             0.601423   \n",
       "left canine width casts                                 0.590075   \n",
       "right canine index intra oral                          -0.382836   \n",
       "\n",
       "                                 intercanine distance casts  \\\n",
       "inter canine distance intraoral                    0.755648   \n",
       "intercanine distance casts                         1.000000   \n",
       "right canine width intraoral                       0.400577   \n",
       "right canine width casts                           0.402120   \n",
       "left canine width intraoral                        0.435529   \n",
       "left canine width casts                            0.357952   \n",
       "right canine index intra oral                     -0.308260   \n",
       "\n",
       "                                 right canine width intraoral  \\\n",
       "inter canine distance intraoral                      0.564793   \n",
       "intercanine distance casts                           0.400577   \n",
       "right canine width intraoral                         1.000000   \n",
       "right canine width casts                             0.999832   \n",
       "left canine width intraoral                          0.941932   \n",
       "left canine width casts                              0.937016   \n",
       "right canine index intra oral                        0.434863   \n",
       "\n",
       "                                 right canine width casts  \\\n",
       "inter canine distance intraoral                  0.566652   \n",
       "intercanine distance casts                       0.402120   \n",
       "right canine width intraoral                     0.999832   \n",
       "right canine width casts                         1.000000   \n",
       "left canine width intraoral                      0.943088   \n",
       "left canine width casts                          0.938069   \n",
       "right canine index intra oral                    0.432951   \n",
       "\n",
       "                                 left canine width intraoral  \\\n",
       "inter canine distance intraoral                     0.601423   \n",
       "intercanine distance casts                          0.435529   \n",
       "right canine width intraoral                        0.941932   \n",
       "right canine width casts                            0.943088   \n",
       "left canine width intraoral                         1.000000   \n",
       "left canine width casts                             0.994120   \n",
       "right canine index intra oral                       0.341201   \n",
       "\n",
       "                                 left canine width casts  \\\n",
       "inter canine distance intraoral                 0.590075   \n",
       "intercanine distance casts                      0.357952   \n",
       "right canine width intraoral                    0.937016   \n",
       "right canine width casts                        0.938069   \n",
       "left canine width intraoral                     0.994120   \n",
       "left canine width casts                         1.000000   \n",
       "right canine index intra oral                   0.346256   \n",
       "\n",
       "                                 right canine index intra oral  \n",
       "inter canine distance intraoral                      -0.382836  \n",
       "intercanine distance casts                           -0.308260  \n",
       "right canine width intraoral                          0.434863  \n",
       "right canine width casts                              0.432951  \n",
       "left canine width intraoral                           0.341201  \n",
       "left canine width casts                               0.346256  \n",
       "right canine index intra oral                         1.000000  "
      ]
     },
     "execution_count": 38,
     "metadata": {},
     "output_type": "execute_result"
    }
   ],
   "source": [
    "x.corr()"
   ]
  },
  {
   "cell_type": "code",
   "execution_count": 39,
   "id": "099f9a3e",
   "metadata": {},
   "outputs": [],
   "source": [
    "#M1 = inter canine distance intraoral, right canine width intraoral,  right canine index intra oral\n",
    "#M2 = intercanine distance casts, right canine width intraoral, right canine index intra oral\n",
    "#M3 = right canine width intraoral, intercanine distance casts, right canine index intra oral\n",
    "#M4 = right canine width casts, intercanine distance casts, right canine index intra oral\n",
    "#M5 = left canine width intraoral, intercanine distance casts, right canine index intra oral\n",
    "#M6 = left canine width casts, intercanine distance casts, right canine index intra oral\n",
    "#M7 = right canine index intra oral, inter canine distance intraoral, right canine width casts, left canine width casts"
   ]
  },
  {
   "cell_type": "code",
   "execution_count": 40,
   "id": "2928b060",
   "metadata": {},
   "outputs": [],
   "source": [
    "# not be used together:  inter canine distance intraoral- intercanine distance casts, left canine width intraoral, left canine width casts\n",
    "# intercanine distance casts - inter canine distance intraoral\n",
    "# right canine width intraoral - right canine width casts, left canine width intraoral, left canine width casts\n",
    "# right canine width casts - right canine width intraoral, left canine width intraoral, left canine width casts\n",
    "# left canine width intraoral - inter canine distance intraoral, right canine width intraoral, right canine width casts,left canine width casts\n",
    "# left canine width casts - right canine width intraoral, right canine width casts, left canine width intraoral\n",
    "# right canine index intra oral- "
   ]
  },
  {
   "cell_type": "code",
   "execution_count": 41,
   "id": "e1ec0e5b",
   "metadata": {},
   "outputs": [],
   "source": [
    "x1 = dt1[['inter canine distance intraoral', 'right canine width intraoral', 'right canine index intra oral']]"
   ]
  },
  {
   "cell_type": "code",
   "execution_count": 42,
   "id": "7a45ce5b",
   "metadata": {},
   "outputs": [
    {
     "data": {
      "text/html": [
       "<div>\n",
       "<style scoped>\n",
       "    .dataframe tbody tr th:only-of-type {\n",
       "        vertical-align: middle;\n",
       "    }\n",
       "\n",
       "    .dataframe tbody tr th {\n",
       "        vertical-align: top;\n",
       "    }\n",
       "\n",
       "    .dataframe thead th {\n",
       "        text-align: right;\n",
       "    }\n",
       "</style>\n",
       "<table border=\"1\" class=\"dataframe\">\n",
       "  <thead>\n",
       "    <tr style=\"text-align: right;\">\n",
       "      <th></th>\n",
       "      <th>inter canine distance intraoral</th>\n",
       "      <th>right canine width intraoral</th>\n",
       "      <th>right canine index intra oral</th>\n",
       "    </tr>\n",
       "  </thead>\n",
       "  <tbody>\n",
       "    <tr>\n",
       "      <th>inter canine distance intraoral</th>\n",
       "      <td>1.000000</td>\n",
       "      <td>0.564793</td>\n",
       "      <td>-0.382836</td>\n",
       "    </tr>\n",
       "    <tr>\n",
       "      <th>right canine width intraoral</th>\n",
       "      <td>0.564793</td>\n",
       "      <td>1.000000</td>\n",
       "      <td>0.434863</td>\n",
       "    </tr>\n",
       "    <tr>\n",
       "      <th>right canine index intra oral</th>\n",
       "      <td>-0.382836</td>\n",
       "      <td>0.434863</td>\n",
       "      <td>1.000000</td>\n",
       "    </tr>\n",
       "  </tbody>\n",
       "</table>\n",
       "</div>"
      ],
      "text/plain": [
       "                                 inter canine distance intraoral  \\\n",
       "inter canine distance intraoral                         1.000000   \n",
       "right canine width intraoral                            0.564793   \n",
       "right canine index intra oral                          -0.382836   \n",
       "\n",
       "                                 right canine width intraoral  \\\n",
       "inter canine distance intraoral                      0.564793   \n",
       "right canine width intraoral                         1.000000   \n",
       "right canine index intra oral                        0.434863   \n",
       "\n",
       "                                 right canine index intra oral  \n",
       "inter canine distance intraoral                      -0.382836  \n",
       "right canine width intraoral                          0.434863  \n",
       "right canine index intra oral                         1.000000  "
      ]
     },
     "execution_count": 42,
     "metadata": {},
     "output_type": "execute_result"
    }
   ],
   "source": [
    "x1.corr()"
   ]
  },
  {
   "cell_type": "code",
   "execution_count": 43,
   "id": "a577a11f",
   "metadata": {},
   "outputs": [
    {
     "data": {
      "text/plain": [
       "0       0\n",
       "1       0\n",
       "2       0\n",
       "3       0\n",
       "4       0\n",
       "       ..\n",
       "1095    1\n",
       "1096    1\n",
       "1097    1\n",
       "1098    1\n",
       "1099    1\n",
       "Name: Gender, Length: 1100, dtype: int32"
      ]
     },
     "execution_count": 43,
     "metadata": {},
     "output_type": "execute_result"
    }
   ],
   "source": [
    "y"
   ]
  },
  {
   "cell_type": "code",
   "execution_count": 44,
   "id": "d82fab57",
   "metadata": {},
   "outputs": [
    {
     "data": {
      "text/plain": [
       "(1100, 12)"
      ]
     },
     "execution_count": 44,
     "metadata": {},
     "output_type": "execute_result"
    }
   ],
   "source": [
    "dt1.shape"
   ]
  },
  {
   "cell_type": "code",
   "execution_count": 78,
   "id": "8cda9b30",
   "metadata": {},
   "outputs": [],
   "source": [
    "from sklearn.preprocessing import StandardScaler\n",
    "SS = StandardScaler()\n",
    "X_ss = SS.fit_transform(x1)"
   ]
  },
  {
   "cell_type": "code",
   "execution_count": null,
   "id": "2a92363c",
   "metadata": {},
   "outputs": [],
   "source": []
  },
  {
   "cell_type": "markdown",
   "id": "ae7b4e5c",
   "metadata": {},
   "source": [
    "# Logistic Regression"
   ]
  },
  {
   "cell_type": "code",
   "execution_count": 79,
   "id": "82a61fee",
   "metadata": {},
   "outputs": [
    {
     "name": "stdout",
     "output_type": "stream",
     "text": [
      "Accuracy Score 0.71\n",
      "Sensitivity Score 0.67\n",
      "Precision Score 0.72\n",
      "F1 Score 0.7\n",
      "Specificity Score 0.74\n",
      "AUC Value M1 Model 0.8274\n"
     ]
    }
   ],
   "source": [
    "from sklearn.model_selection import train_test_split\n",
    "\n",
    "X_train, X_test, Y_train, Y_test = train_test_split(X_ss,y,train_size=0.70, random_state=100000)\n",
    "\n",
    "from sklearn.linear_model import LogisticRegression \n",
    "logreg = LogisticRegression() \n",
    "logreg.fit(X_train, Y_train)\n",
    "\n",
    "Y_predict_train = logreg.predict(X_train) \n",
    "Y_predict_test = logreg.predict(X_test)\n",
    "\n",
    "\n",
    "from sklearn.metrics import confusion_matrix, accuracy_score, recall_score, f1_score, precision_score, roc_curve,roc_auc_score \n",
    "cm = confusion_matrix(Y_train, Y_predict_train)\n",
    "print(\"Accuracy Score\", accuracy_score(Y_train, Y_predict_train).round(2))\n",
    "print(\"Sensitivity Score\", recall_score(Y_train, Y_predict_train).round(2))\n",
    "print(\"Precision Score\", precision_score(Y_train, Y_predict_train).round(2))\n",
    "print(\"F1 Score\", f1_score(Y_train, Y_predict_train).round(2))\n",
    "TN = cm[0,0]\n",
    "FP = cm[0,1]\n",
    "TNR = TN / (TN+FP)\n",
    "print(\"Specificity Score\", TNR.round(2))\n",
    "\n",
    "logreg.predict_proba(X_train)[:,1]\n",
    "\n",
    "TPR, FPR, dummy = roc_curve(Y_train,logreg.predict_proba(X_train)[:,1])\n",
    "\n",
    "print (\"AUC Value M1 Model\", roc_auc_score(Y_train,logreg.predict_proba(X_train)[:,1]).round(4))"
   ]
  },
  {
   "cell_type": "code",
   "execution_count": 80,
   "id": "e4a81838",
   "metadata": {},
   "outputs": [
    {
     "data": {
      "image/png": "[encoded data removed]",
      "text/plain": [
       "<Figure size 432x288 with 1 Axes>"
      ]
     },
     "metadata": {
      "needs_background": "light"
     },
     "output_type": "display_data"
    }
   ],
   "source": [
    "plt.plot(TPR,FPR)\n",
    "plt.show()"
   ]
  },
  {
   "cell_type": "code",
   "execution_count": null,
   "id": "84c37087",
   "metadata": {},
   "outputs": [],
   "source": []
  },
  {
   "cell_type": "markdown",
   "id": "b41691a7",
   "metadata": {},
   "source": [
    "# KNN Classifier"
   ]
  },
  {
   "cell_type": "code",
   "execution_count": 81,
   "id": "df2be2de",
   "metadata": {},
   "outputs": [
    {
     "name": "stdout",
     "output_type": "stream",
     "text": [
      "Accuracy Score 0.71\n",
      "Sensitivity Score 0.67\n",
      "Precision Score 0.72\n",
      "F1 Score 0.7\n",
      "Specificity Score 0.74\n",
      "AUC Value M1 Model 0.8274\n"
     ]
    }
   ],
   "source": [
    "from sklearn.neighbors import KNeighborsClassifier\n",
    "\n",
    "from sklearn.model_selection import train_test_split\n",
    "\n",
    "X_train, X_test, Y_train, Y_test = train_test_split(X_ss,y,train_size=0.70, random_state=100000)\n",
    "\n",
    "knn = KNeighborsClassifier(n_neighbors=7)\n",
    "knn.fit(X_train, Y_train)\n",
    "Y_predic_Train = knn.predict(X_train)\n",
    "\n",
    "\n",
    "from sklearn.metrics import confusion_matrix, accuracy_score, recall_score, f1_score, precision_score\n",
    "cm = confusion_matrix(Y_train, Y_predict_train)\n",
    "print(\"Accuracy Score\", accuracy_score(Y_train, Y_predict_train).round(2))\n",
    "print(\"Sensitivity Score\", recall_score(Y_train, Y_predict_train).round(2))\n",
    "print(\"Precision Score\", precision_score(Y_train, Y_predict_train).round(2))\n",
    "print(\"F1 Score\", f1_score(Y_train, Y_predict_train).round(2))\n",
    "TN = cm[0,0]\n",
    "FP = cm[0,1]\n",
    "TNR = TN / (TN+FP)\n",
    "print(\"Specificity Score\", TNR.round(2))\n",
    "\n",
    "logreg.predict_proba(X_train)[:,1]\n",
    "\n",
    "TPR, FPR, dummy = roc_curve(Y_train,logreg.predict_proba(X_train)[:,1])\n",
    "\n",
    "print (\"AUC Value M1 Model\", roc_auc_score(Y_train,logreg.predict_proba(X_train)[:,1]).round(4))"
   ]
  },
  {
   "cell_type": "code",
   "execution_count": 82,
   "id": "bdb1ffc3",
   "metadata": {},
   "outputs": [
    {
     "data": {
      "text/plain": [
       "array([[286,  99],\n",
       "       [126, 259]], dtype=int64)"
      ]
     },
     "execution_count": 82,
     "metadata": {},
     "output_type": "execute_result"
    }
   ],
   "source": [
    "cm"
   ]
  },
  {
   "cell_type": "code",
   "execution_count": 83,
   "id": "5370a980",
   "metadata": {},
   "outputs": [
    {
     "data": {
      "image/png": "[encoded data removed]",
      "text/plain": [
       "<Figure size 432x288 with 1 Axes>"
      ]
     },
     "metadata": {
      "needs_background": "light"
     },
     "output_type": "display_data"
    }
   ],
   "source": [
    "plt.plot(TPR,FPR)\n",
    "plt.show()"
   ]
  },
  {
   "cell_type": "code",
   "execution_count": 47,
   "id": "94ba48b4",
   "metadata": {},
   "outputs": [
    {
     "name": "stdout",
     "output_type": "stream",
     "text": [
      "Accuracy Score Training Data 0.71\n",
      "Accuracy Score Test Data 0.71\n",
      "AUC Value M2 Model 0.8283\n"
     ]
    }
   ],
   "source": [
    "x2 = dt1[['intercanine distance casts', 'right canine width intraoral', 'right canine index intra oral']]\n",
    "\n",
    "from sklearn.preprocessing import StandardScaler\n",
    "SS = StandardScaler()\n",
    "X_ss2 = SS.fit_transform(x2)\n",
    "\n",
    "from sklearn.model_selection import train_test_split\n",
    "\n",
    "X_train, X_test, Y_train, Y_test = train_test_split(X_ss2,y,train_size=0.70, random_state=100000)\n",
    "\n",
    "from sklearn.linear_model import LogisticRegression \n",
    "logreg = LogisticRegression() \n",
    "logreg.fit(X_train, Y_train)\n",
    "\n",
    "Y_predict_train = logreg.predict(X_train) \n",
    "Y_predict_test = logreg.predict(X_test)\n",
    "\n",
    "from sklearn.metrics import accuracy_score, roc_curve,roc_auc_score \n",
    "print(\"Accuracy Score Training Data\", accuracy_score(Y_train,Y_predict_train).round(2)) \n",
    "print(\"Accuracy Score Test Data\", accuracy_score(Y_test,Y_predict_test).round(2))\n",
    "\n",
    "logreg.predict_proba(X_ss2)[:,1]\n",
    "\n",
    "TPR, FPR, dummy = roc_curve(y,logreg.predict_proba(X_ss2)[:,1])\n",
    "\n",
    "print (\"AUC Value M2 Model\", roc_auc_score(y,logreg.predict_proba(X_ss2)[:,1]).round(4))"
   ]
  },
  {
   "cell_type": "code",
   "execution_count": 48,
   "id": "1ebde748",
   "metadata": {},
   "outputs": [
    {
     "data": {
      "text/html": [
       "<div>\n",
       "<style scoped>\n",
       "    .dataframe tbody tr th:only-of-type {\n",
       "        vertical-align: middle;\n",
       "    }\n",
       "\n",
       "    .dataframe tbody tr th {\n",
       "        vertical-align: top;\n",
       "    }\n",
       "\n",
       "    .dataframe thead th {\n",
       "        text-align: right;\n",
       "    }\n",
       "</style>\n",
       "<table border=\"1\" class=\"dataframe\">\n",
       "  <thead>\n",
       "    <tr style=\"text-align: right;\">\n",
       "      <th></th>\n",
       "      <th>intercanine distance casts</th>\n",
       "      <th>right canine width intraoral</th>\n",
       "      <th>right canine index intra oral</th>\n",
       "    </tr>\n",
       "  </thead>\n",
       "  <tbody>\n",
       "    <tr>\n",
       "      <th>intercanine distance casts</th>\n",
       "      <td>1.000000</td>\n",
       "      <td>0.400577</td>\n",
       "      <td>-0.308260</td>\n",
       "    </tr>\n",
       "    <tr>\n",
       "      <th>right canine width intraoral</th>\n",
       "      <td>0.400577</td>\n",
       "      <td>1.000000</td>\n",
       "      <td>0.434863</td>\n",
       "    </tr>\n",
       "    <tr>\n",
       "      <th>right canine index intra oral</th>\n",
       "      <td>-0.308260</td>\n",
       "      <td>0.434863</td>\n",
       "      <td>1.000000</td>\n",
       "    </tr>\n",
       "  </tbody>\n",
       "</table>\n",
       "</div>"
      ],
      "text/plain": [
       "                               intercanine distance casts  \\\n",
       "intercanine distance casts                       1.000000   \n",
       "right canine width intraoral                     0.400577   \n",
       "right canine index intra oral                   -0.308260   \n",
       "\n",
       "                               right canine width intraoral  \\\n",
       "intercanine distance casts                         0.400577   \n",
       "right canine width intraoral                       1.000000   \n",
       "right canine index intra oral                      0.434863   \n",
       "\n",
       "                               right canine index intra oral  \n",
       "intercanine distance casts                         -0.308260  \n",
       "right canine width intraoral                        0.434863  \n",
       "right canine index intra oral                       1.000000  "
      ]
     },
     "execution_count": 48,
     "metadata": {},
     "output_type": "execute_result"
    }
   ],
   "source": [
    "x2.corr()"
   ]
  },
  {
   "cell_type": "code",
   "execution_count": 49,
   "id": "cb3a74ed",
   "metadata": {},
   "outputs": [
    {
     "name": "stdout",
     "output_type": "stream",
     "text": [
      "Accuracy Score Training Data 0.71\n",
      "Accuracy Score Test Data 0.71\n",
      "AUC Value M3 Model 0.8283\n"
     ]
    }
   ],
   "source": [
    "x3 = dt1[['right canine width intraoral','intercanine distance casts', 'right canine index intra oral']]\n",
    "\n",
    "from sklearn.preprocessing import StandardScaler\n",
    "SS = StandardScaler()\n",
    "X_ss3 = SS.fit_transform(x3)\n",
    "\n",
    "from sklearn.model_selection import train_test_split\n",
    "\n",
    "X_train, X_test, Y_train, Y_test = train_test_split(X_ss3,y,train_size=0.70, random_state=100000)\n",
    "\n",
    "from sklearn.linear_model import LogisticRegression \n",
    "logreg = LogisticRegression() \n",
    "logreg.fit(X_train, Y_train)\n",
    "\n",
    "Y_predict_train = logreg.predict(X_train) \n",
    "Y_predict_test = logreg.predict(X_test)\n",
    "\n",
    "from sklearn.metrics import accuracy_score, roc_curve,roc_auc_score \n",
    "print(\"Accuracy Score Training Data\", accuracy_score(Y_train,Y_predict_train).round(2)) \n",
    "print(\"Accuracy Score Test Data\", accuracy_score(Y_test,Y_predict_test).round(2))\n",
    "\n",
    "logreg.predict_proba(X_ss3)[:,1]\n",
    "\n",
    "TPR, FPR, dummy = roc_curve(y,logreg.predict_proba(X_ss3)[:,1])\n",
    "\n",
    "print (\"AUC Value M3 Model\", roc_auc_score(y,logreg.predict_proba(X_ss3)[:,1]).round(4))"
   ]
  },
  {
   "cell_type": "code",
   "execution_count": 50,
   "id": "39c18a84",
   "metadata": {},
   "outputs": [
    {
     "data": {
      "text/html": [
       "<div>\n",
       "<style scoped>\n",
       "    .dataframe tbody tr th:only-of-type {\n",
       "        vertical-align: middle;\n",
       "    }\n",
       "\n",
       "    .dataframe tbody tr th {\n",
       "        vertical-align: top;\n",
       "    }\n",
       "\n",
       "    .dataframe thead th {\n",
       "        text-align: right;\n",
       "    }\n",
       "</style>\n",
       "<table border=\"1\" class=\"dataframe\">\n",
       "  <thead>\n",
       "    <tr style=\"text-align: right;\">\n",
       "      <th></th>\n",
       "      <th>right canine width intraoral</th>\n",
       "      <th>intercanine distance casts</th>\n",
       "      <th>right canine index intra oral</th>\n",
       "    </tr>\n",
       "  </thead>\n",
       "  <tbody>\n",
       "    <tr>\n",
       "      <th>right canine width intraoral</th>\n",
       "      <td>1.000000</td>\n",
       "      <td>0.400577</td>\n",
       "      <td>0.434863</td>\n",
       "    </tr>\n",
       "    <tr>\n",
       "      <th>intercanine distance casts</th>\n",
       "      <td>0.400577</td>\n",
       "      <td>1.000000</td>\n",
       "      <td>-0.308260</td>\n",
       "    </tr>\n",
       "    <tr>\n",
       "      <th>right canine index intra oral</th>\n",
       "      <td>0.434863</td>\n",
       "      <td>-0.308260</td>\n",
       "      <td>1.000000</td>\n",
       "    </tr>\n",
       "  </tbody>\n",
       "</table>\n",
       "</div>"
      ],
      "text/plain": [
       "                               right canine width intraoral  \\\n",
       "right canine width intraoral                       1.000000   \n",
       "intercanine distance casts                         0.400577   \n",
       "right canine index intra oral                      0.434863   \n",
       "\n",
       "                               intercanine distance casts  \\\n",
       "right canine width intraoral                     0.400577   \n",
       "intercanine distance casts                       1.000000   \n",
       "right canine index intra oral                   -0.308260   \n",
       "\n",
       "                               right canine index intra oral  \n",
       "right canine width intraoral                        0.434863  \n",
       "intercanine distance casts                         -0.308260  \n",
       "right canine index intra oral                       1.000000  "
      ]
     },
     "execution_count": 50,
     "metadata": {},
     "output_type": "execute_result"
    }
   ],
   "source": [
    "x3.corr()"
   ]
  },
  {
   "cell_type": "code",
   "execution_count": 51,
   "id": "9e216599",
   "metadata": {},
   "outputs": [
    {
     "name": "stdout",
     "output_type": "stream",
     "text": [
      "Accuracy Score Training Data 0.71\n",
      "Accuracy Score Test Data 0.71\n",
      "AUC Value M4 Model 0.828\n"
     ]
    }
   ],
   "source": [
    "x4 = dt1[['right canine width casts','intercanine distance casts', 'right canine index intra oral']]\n",
    "\n",
    "from sklearn.preprocessing import StandardScaler\n",
    "SS = StandardScaler()\n",
    "X_ss4 = SS.fit_transform(x4)\n",
    "\n",
    "from sklearn.model_selection import train_test_split\n",
    "\n",
    "X_train, X_test, Y_train, Y_test = train_test_split(X_ss4,y,train_size=0.70, random_state=100000)\n",
    "\n",
    "from sklearn.linear_model import LogisticRegression \n",
    "logreg = LogisticRegression() \n",
    "logreg.fit(X_train, Y_train)\n",
    "\n",
    "Y_predict_train = logreg.predict(X_train) \n",
    "Y_predict_test = logreg.predict(X_test)\n",
    "\n",
    "from sklearn.metrics import accuracy_score, roc_curve,roc_auc_score \n",
    "print(\"Accuracy Score Training Data\", accuracy_score(Y_train,Y_predict_train).round(2)) \n",
    "print(\"Accuracy Score Test Data\", accuracy_score(Y_test,Y_predict_test).round(2))\n",
    "\n",
    "logreg.predict_proba(X_ss4)[:,1]\n",
    "\n",
    "TPR, FPR, dummy = roc_curve(y,logreg.predict_proba(X_ss4)[:,1])\n",
    "\n",
    "print (\"AUC Value M4 Model\", roc_auc_score(y,logreg.predict_proba(X_ss4)[:,1]).round(4))"
   ]
  },
  {
   "cell_type": "code",
   "execution_count": 52,
   "id": "3aba114c",
   "metadata": {},
   "outputs": [
    {
     "data": {
      "text/html": [
       "<div>\n",
       "<style scoped>\n",
       "    .dataframe tbody tr th:only-of-type {\n",
       "        vertical-align: middle;\n",
       "    }\n",
       "\n",
       "    .dataframe tbody tr th {\n",
       "        vertical-align: top;\n",
       "    }\n",
       "\n",
       "    .dataframe thead th {\n",
       "        text-align: right;\n",
       "    }\n",
       "</style>\n",
       "<table border=\"1\" class=\"dataframe\">\n",
       "  <thead>\n",
       "    <tr style=\"text-align: right;\">\n",
       "      <th></th>\n",
       "      <th>right canine width casts</th>\n",
       "      <th>intercanine distance casts</th>\n",
       "      <th>right canine index intra oral</th>\n",
       "    </tr>\n",
       "  </thead>\n",
       "  <tbody>\n",
       "    <tr>\n",
       "      <th>right canine width casts</th>\n",
       "      <td>1.000000</td>\n",
       "      <td>0.40212</td>\n",
       "      <td>0.432951</td>\n",
       "    </tr>\n",
       "    <tr>\n",
       "      <th>intercanine distance casts</th>\n",
       "      <td>0.402120</td>\n",
       "      <td>1.00000</td>\n",
       "      <td>-0.308260</td>\n",
       "    </tr>\n",
       "    <tr>\n",
       "      <th>right canine index intra oral</th>\n",
       "      <td>0.432951</td>\n",
       "      <td>-0.30826</td>\n",
       "      <td>1.000000</td>\n",
       "    </tr>\n",
       "  </tbody>\n",
       "</table>\n",
       "</div>"
      ],
      "text/plain": [
       "                               right canine width casts  \\\n",
       "right canine width casts                       1.000000   \n",
       "intercanine distance casts                     0.402120   \n",
       "right canine index intra oral                  0.432951   \n",
       "\n",
       "                               intercanine distance casts  \\\n",
       "right canine width casts                          0.40212   \n",
       "intercanine distance casts                        1.00000   \n",
       "right canine index intra oral                    -0.30826   \n",
       "\n",
       "                               right canine index intra oral  \n",
       "right canine width casts                            0.432951  \n",
       "intercanine distance casts                         -0.308260  \n",
       "right canine index intra oral                       1.000000  "
      ]
     },
     "execution_count": 52,
     "metadata": {},
     "output_type": "execute_result"
    }
   ],
   "source": [
    "x4.corr()"
   ]
  },
  {
   "cell_type": "code",
   "execution_count": 53,
   "id": "5669efbf",
   "metadata": {},
   "outputs": [
    {
     "name": "stdout",
     "output_type": "stream",
     "text": [
      "Accuracy Score Training Data 0.82\n",
      "Accuracy Score Test Data 0.8\n",
      "AUC Value M5 Model 0.8815\n"
     ]
    }
   ],
   "source": [
    "x5 = dt1[['left canine width intraoral','intercanine distance casts', 'right canine index intra oral']]\n",
    "\n",
    "from sklearn.preprocessing import StandardScaler\n",
    "SS = StandardScaler()\n",
    "X_ss5 = SS.fit_transform(x5)\n",
    "\n",
    "from sklearn.model_selection import train_test_split\n",
    "\n",
    "X_train, X_test, Y_train, Y_test = train_test_split(X_ss5,y,train_size=0.70, random_state=100000)\n",
    "\n",
    "from sklearn.linear_model import LogisticRegression \n",
    "logreg = LogisticRegression() \n",
    "logreg.fit(X_train, Y_train)\n",
    "\n",
    "Y_predict_train = logreg.predict(X_train) \n",
    "Y_predict_test = logreg.predict(X_test)\n",
    "\n",
    "from sklearn.metrics import accuracy_score, roc_curve,roc_auc_score \n",
    "print(\"Accuracy Score Training Data\", accuracy_score(Y_train,Y_predict_train).round(2)) \n",
    "print(\"Accuracy Score Test Data\", accuracy_score(Y_test,Y_predict_test).round(2))\n",
    "\n",
    "logreg.predict_proba(X_ss5)[:,1]\n",
    "\n",
    "TPR, FPR, dummy = roc_curve(y,logreg.predict_proba(X_ss5)[:,1])\n",
    "\n",
    "print (\"AUC Value M5 Model\", roc_auc_score(y,logreg.predict_proba(X_ss5)[:,1]).round(4))"
   ]
  },
  {
   "cell_type": "code",
   "execution_count": 54,
   "id": "e0882cd9",
   "metadata": {},
   "outputs": [
    {
     "name": "stdout",
     "output_type": "stream",
     "text": [
      "Accuracy Score Training Data 0.82\n",
      "Accuracy Score Test Data 0.81\n",
      "AUC Value M6 Model 0.8837\n"
     ]
    }
   ],
   "source": [
    "x6 = dt1[['left canine width casts','intercanine distance casts', 'right canine index intra oral']]\n",
    "\n",
    "from sklearn.preprocessing import StandardScaler\n",
    "SS = StandardScaler()\n",
    "X_ss6 = SS.fit_transform(x6)\n",
    "\n",
    "from sklearn.model_selection import train_test_split\n",
    "\n",
    "X_train, X_test, Y_train, Y_test = train_test_split(X_ss6,y,train_size=0.70, random_state=100000)\n",
    "\n",
    "from sklearn.linear_model import LogisticRegression \n",
    "logreg = LogisticRegression() \n",
    "logreg.fit(X_train, Y_train)\n",
    "\n",
    "Y_predict_train = logreg.predict(X_train) \n",
    "Y_predict_test = logreg.predict(X_test)\n",
    "\n",
    "from sklearn.metrics import accuracy_score, roc_curve,roc_auc_score \n",
    "print(\"Accuracy Score Training Data\", accuracy_score(Y_train,Y_predict_train).round(2)) \n",
    "print(\"Accuracy Score Test Data\", accuracy_score(Y_test,Y_predict_test).round(2))\n",
    "\n",
    "logreg.predict_proba(X_ss6)[:,1]\n",
    "\n",
    "TPR, FPR, dummy = roc_curve(y,logreg.predict_proba(X_ss6)[:,1])\n",
    "\n",
    "print (\"AUC Value M6 Model\", roc_auc_score(y,logreg.predict_proba(X_ss6)[:,1]).round(4))"
   ]
  },
  {
   "cell_type": "code",
   "execution_count": 55,
   "id": "aa8b5a70",
   "metadata": {},
   "outputs": [
    {
     "name": "stdout",
     "output_type": "stream",
     "text": [
      "Accuracy Score Training Data 0.82\n",
      "Accuracy Score Test Data 0.81\n",
      "AUC Value M7 Model 0.884\n"
     ]
    }
   ],
   "source": [
    "x7 = dt1[['right canine index intra oral','inter canine distance intraoral', 'right canine width casts', 'left canine width casts']]\n",
    "\n",
    "from sklearn.preprocessing import StandardScaler\n",
    "SS = StandardScaler()\n",
    "X_ss7 = SS.fit_transform(x7)\n",
    "\n",
    "from sklearn.model_selection import train_test_split\n",
    "\n",
    "X_train, X_test, Y_train, Y_test = train_test_split(X_ss7,y,train_size=0.70, random_state=100000)\n",
    "\n",
    "from sklearn.linear_model import LogisticRegression \n",
    "logreg = LogisticRegression() \n",
    "logreg.fit(X_train, Y_train)\n",
    "\n",
    "Y_predict_train = logreg.predict(X_train) \n",
    "Y_predict_test = logreg.predict(X_test)\n",
    "\n",
    "from sklearn.metrics import accuracy_score, roc_curve,roc_auc_score \n",
    "print(\"Accuracy Score Training Data\", accuracy_score(Y_train,Y_predict_train).round(2)) \n",
    "print(\"Accuracy Score Test Data\", accuracy_score(Y_test,Y_predict_test).round(2))\n",
    "\n",
    "logreg.predict_proba(X_ss7)[:,1]\n",
    "\n",
    "TPR, FPR, dummy = roc_curve(y,logreg.predict_proba(X_ss7)[:,1])\n",
    "\n",
    "print (\"AUC Value M7 Model\", roc_auc_score(y,logreg.predict_proba(X_ss7)[:,1]).round(4))"
   ]
  },
  {
   "cell_type": "markdown",
   "id": "428110c4",
   "metadata": {},
   "source": [
    "# bagging method\n"
   ]
  },
  {
   "cell_type": "code",
   "execution_count": 56,
   "id": "f218a2ff",
   "metadata": {},
   "outputs": [
    {
     "name": "stdout",
     "output_type": "stream",
     "text": [
      "mean squared error train 0.03\n",
      "mean squared error test 0.11\n"
     ]
    }
   ],
   "source": [
    "from sklearn.tree import DecisionTreeRegressor\n",
    "\n",
    "\n",
    "from sklearn.ensemble import BaggingRegressor\n",
    "from sklearn.metrics import mean_squared_error\n",
    "dt1 = DecisionTreeRegressor(max_depth=10)\n",
    "bag = BaggingRegressor(dt1,n_estimators=1000, max_samples=0.7 , max_features=0.7, bootstrap=False)\n",
    "bag.fit(X_train,Y_train)\n",
    "Y_pred_train = bag.predict(X_train)\n",
    "Y_pred_test = bag.predict(X_test)\n",
    "mse_train = mean_squared_error(Y_train,Y_pred_train)\n",
    "mse_test = mean_squared_error(Y_test,Y_pred_test)\n",
    "print(\"mean squared error train\", mse_train.round(2))\n",
    "print(\"mean squared error test\", mse_test.round(2))"
   ]
  },
  {
   "cell_type": "code",
   "execution_count": 57,
   "id": "0eaf6591",
   "metadata": {},
   "outputs": [
    {
     "name": "stdout",
     "output_type": "stream",
     "text": [
      "mean squared error train 0.08\n",
      "mean squared error test 0.11\n"
     ]
    }
   ],
   "source": [
    "#Randomforest\n",
    "\n",
    "from sklearn.ensemble import RandomForestRegressor \n",
    "RFR = RandomForestRegressor(max_depth=5, n_estimators=10000, max_samples=0.7,max_features=0.7, bootstrap=True) \n",
    "RFR.fit(X_train,Y_train) \n",
    "Y_pred_train = RFR.predict(X_train) \n",
    "Y_pred_test = RFR.predict(X_test) \n",
    "from sklearn.metrics import mean_squared_error \n",
    "mse_r_train = mean_squared_error(Y_train,Y_pred_train) \n",
    "mse_r_test = mean_squared_error(Y_test,Y_pred_test) \n",
    "print(\"mean squared error train\", mse_r_train.round(2)) \n",
    "print(\"mean squared error test\", mse_r_test.round(2))\n",
    "\n",
    "\n",
    "\n"
   ]
  },
  {
   "cell_type": "code",
   "execution_count": 58,
   "id": "0fbb1086",
   "metadata": {},
   "outputs": [
    {
     "name": "stdout",
     "output_type": "stream",
     "text": [
      "mean squared error train 0.1\n",
      "mean squared error test 0.13\n"
     ]
    }
   ],
   "source": [
    "from sklearn.ensemble import GradientBoostingRegressor \n",
    "GBR = GradientBoostingRegressor(max_depth=5, n_estimators=100, learning_rate=0.01)\n",
    "GBR.fit(X_train,Y_train) \n",
    "Y_pred_train = GBR.predict(X_train) \n",
    "Y_pred_test = GBR.predict(X_test) \n",
    "from sklearn.metrics import mean_squared_error \n",
    "mse_r_train = mean_squared_error(Y_train,Y_pred_train) \n",
    "mse_r_test = mean_squared_error(Y_test,Y_pred_test) \n",
    "print(\"mean squared error train\", mse_r_train.round(2)) \n",
    "print(\"mean squared error test\", mse_r_test.round(2))"
   ]
  },
  {
   "cell_type": "code",
   "execution_count": 59,
   "id": "95575962",
   "metadata": {},
   "outputs": [
    {
     "ename": "ModuleNotFoundError",
     "evalue": "No module named 'xgboost'",
     "output_type": "error",
     "traceback": [
      "\u001b[1;31m---------------------------------------------------------------------------\u001b[0m",
      "\u001b[1;31mModuleNotFoundError\u001b[0m                       Traceback (most recent call last)",
      "Input \u001b[1;32mIn [59]\u001b[0m, in \u001b[0;36m<cell line: 1>\u001b[1;34m()\u001b[0m\n\u001b[1;32m----> 1\u001b[0m \u001b[38;5;28;01mfrom\u001b[39;00m \u001b[38;5;21;01mxgboost\u001b[39;00m \u001b[38;5;28;01mimport\u001b[39;00m XGBClassifier \n\u001b[0;32m      2\u001b[0m XGBClassifier() \n\u001b[0;32m      3\u001b[0m XGB \u001b[38;5;241m=\u001b[39m XGBClassifier(gamma\u001b[38;5;241m=\u001b[39m\u001b[38;5;241m10\u001b[39m,reg_lambda\u001b[38;5;241m=\u001b[39m\u001b[38;5;241m4\u001b[39m,n_estimators\u001b[38;5;241m=\u001b[39m\u001b[38;5;241m100\u001b[39m) \n",
      "\u001b[1;31mModuleNotFoundError\u001b[0m: No module named 'xgboost'"
     ]
    }
   ],
   "source": [
    "from xgboost import XGBClassifier \n",
    "XGBClassifier() \n",
    "XGB = XGBClassifier(gamma=10,reg_lambda=4,n_estimators=100) \n",
    "XGB.fit(X_train,Y_train) \n",
    "Y_pred_train = XGB.predict(X_train) \n",
    "Y_pred_test = XGB.predict(X_test) \n",
    "from sklearn.metrics import mean_squared_error \n",
    "mse_r_train = mean_squared_error(Y_train,Y_pred_train) \n",
    "mse_r_test = mean_squared_error(Y_test,Y_pred_test)\n",
    "print(\"mean squared error train\", mse_r_train.round(2)) \n",
    "print(\"mean squared error test\", mse_r_test.round(2))"
   ]
  },
  {
   "cell_type": "code",
   "execution_count": 61,
   "id": "826bfd10",
   "metadata": {},
   "outputs": [
    {
     "name": "stdout",
     "output_type": "stream",
     "text": [
      "Accuracy Score 0.82\n",
      "Sensitivity Score 0.81\n",
      "Precision Score 0.83\n",
      "F1 Score 0.82\n",
      "Specificity Score 0.83\n"
     ]
    }
   ],
   "source": [
    "from sklearn.metrics import confusion_matrix, accuracy_score, recall_score, f1_score, precision_score\n",
    "cm = confusion_matrix(Y_train, Y_predict_train)\n",
    "print(\"Accuracy Score\", accuracy_score(Y_train, Y_predict_train).round(2))\n",
    "print(\"Sensitivity Score\", recall_score(Y_train, Y_predict_train).round(2))\n",
    "print(\"Precision Score\", precision_score(Y_train, Y_predict_train).round(2))\n",
    "print(\"F1 Score\", f1_score(Y_train, Y_predict_train).round(2))\n",
    "TN = cm[0,0]\n",
    "FP = cm[0,1]\n",
    "print(\"Specificity Score\", TNR.round(2))"
   ]
  },
  {
   "cell_type": "code",
   "execution_count": null,
   "id": "28d60a13",
   "metadata": {},
   "outputs": [],
   "source": []
  },
  {
   "cell_type": "code",
   "execution_count": null,
   "id": "3250d599",
   "metadata": {},
   "outputs": [],
   "source": []
  },
  {
   "cell_type": "code",
   "execution_count": null,
   "id": "768fe17c",
   "metadata": {},
   "outputs": [],
   "source": []
  }
 ],
 "metadata": {
  "kernelspec": {
   "display_name": "Python 3 (ipykernel)",
   "language": "python",
   "name": "python3"
  },
  "language_info": {
   "codemirror_mode": {
    "name": "ipython",
    "version": 3
   },
   "file_extension": ".py",
   "mimetype": "text/x-python",
   "name": "python",
   "nbconvert_exporter": "python",
   "pygments_lexer": "ipython3",
   "version": "3.9.12"
  }
 },
 "nbformat": 4,
 "nbformat_minor": 5
}
